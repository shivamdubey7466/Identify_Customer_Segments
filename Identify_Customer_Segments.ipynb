{
 "cells": [
  {
   "cell_type": "markdown",
   "metadata": {},
   "source": [
    "# Project: Identify Customer Segments\n",
    "\n",
    "In this project, you will apply unsupervised learning techniques to identify segments of the population that form the core customer base for a mail-order sales company in Germany. These segments can then be used to direct marketing campaigns towards audiences that will have the highest expected rate of returns. The data that you will use has been provided by our partners at Bertelsmann Arvato Analytics, and represents a real-life data science task.\n",
    "\n",
    "This notebook will help you complete this task by providing a framework within which you will perform your analysis steps. In each step of the project, you will see some text describing the subtask that you will perform, followed by one or more code cells for you to complete your work. **Feel free to add additional code and markdown cells as you go along so that you can explore everything in precise chunks.** The code cells provided in the base template will outline only the major tasks, and will usually not be enough to cover all of the minor tasks that comprise it.\n",
    "\n",
    "It should be noted that while there will be precise guidelines on how you should handle certain tasks in the project, there will also be places where an exact specification is not provided. **There will be times in the project where you will need to make and justify your own decisions on how to treat the data.** These are places where there may not be only one way to handle the data. In real-life tasks, there may be many valid ways to approach an analysis task. One of the most important things you can do is clearly document your approach so that other scientists can understand the decisions you've made.\n",
    "\n",
    "At the end of most sections, there will be a Markdown cell labeled **Discussion**. In these cells, you will report your findings for the completed section, as well as document the decisions that you made in your approach to each subtask. **Your project will be evaluated not just on the code used to complete the tasks outlined, but also your communication about your observations and conclusions at each stage.**"
   ]
  },
  {
   "cell_type": "code",
   "execution_count": 16,
   "metadata": {},
   "outputs": [],
   "source": [
    "# import libraries here; add more as necessary\n",
    "import numpy as np\n",
    "import pandas as pd\n",
    "import matplotlib.pyplot as plt\n",
    "import seaborn as sns\n",
    "import random\n",
    "from sklearn.preprocessing import LabelEncoder,Imputer,StandardScaler\n",
    "from sklearn.decomposition import PCA\n",
    "from sklearn.cluster import KMeans\n",
    "# magic word for producing visualizations in notebook\n",
    "%matplotlib inline"
   ]
  },
  {
   "cell_type": "markdown",
   "metadata": {},
   "source": [
    "### Step 0: Load the Data\n",
    "\n",
    "There are four files associated with this project (not including this one):\n",
    "\n",
    "- `Udacity_AZDIAS_Subset.csv`: Demographics data for the general population of Germany; 891211 persons (rows) x 85 features (columns).\n",
    "- `Udacity_CUSTOMERS_Subset.csv`: Demographics data for customers of a mail-order company; 191652 persons (rows) x 85 features (columns).\n",
    "- `Data_Dictionary.md`: Detailed information file about the features in the provided datasets.\n",
    "- `AZDIAS_Feature_Summary.csv`: Summary of feature attributes for demographics data; 85 features (rows) x 4 columns\n",
    "\n",
    "Each row of the demographics files represents a single person, but also includes information outside of individuals, including information about their household, building, and neighborhood. You will use this information to cluster the general population into groups with similar demographic properties. Then, you will see how the people in the customers dataset fit into those created clusters. The hope here is that certain clusters are over-represented in the customers data, as compared to the general population; those over-represented clusters will be assumed to be part of the core userbase. This information can then be used for further applications, such as targeting for a marketing campaign.\n",
    "\n",
    "To start off with, load in the demographics data for the general population into a pandas DataFrame, and do the same for the feature attributes summary. Note for all of the `.csv` data files in this project: they're semicolon (`;`) delimited, so you'll need an additional argument in your [`read_csv()`](https://pandas.pydata.org/pandas-docs/stable/generated/pandas.read_csv.html) call to read in the data properly. Also, considering the size of the main dataset, it may take some time for it to load completely.\n",
    "\n",
    "Once the dataset is loaded, it's recommended that you take a little bit of time just browsing the general structure of the dataset and feature summary file. You'll be getting deep into the innards of the cleaning in the first major step of the project, so gaining some general familiarity can help you get your bearings."
   ]
  },
  {
   "cell_type": "code",
   "execution_count": 17,
   "metadata": {},
   "outputs": [],
   "source": [
    "# Load in the general demographics data.\n",
    "azdias = pd.read_csv('Udacity_AZDIAS_Subset.csv',delimiter=';')\n",
    "\n",
    "# Load in the feature summary file.\n",
    "feat_info = pd.read_csv('AZDIAS_Feature_Summary.csv',delimiter=';')"
   ]
  },
  {
   "cell_type": "code",
   "execution_count": 6,
   "metadata": {},
   "outputs": [
    {
     "data": {
      "text/plain": [
       "(891221, 85)"
      ]
     },
     "execution_count": 6,
     "metadata": {},
     "output_type": "execute_result"
    }
   ],
   "source": [
    "azdias.shape"
   ]
  },
  {
   "cell_type": "code",
   "execution_count": 7,
   "metadata": {},
   "outputs": [
    {
     "data": {
      "text/html": [
       "<div>\n",
       "<style scoped>\n",
       "    .dataframe tbody tr th:only-of-type {\n",
       "        vertical-align: middle;\n",
       "    }\n",
       "\n",
       "    .dataframe tbody tr th {\n",
       "        vertical-align: top;\n",
       "    }\n",
       "\n",
       "    .dataframe thead th {\n",
       "        text-align: right;\n",
       "    }\n",
       "</style>\n",
       "<table border=\"1\" class=\"dataframe\">\n",
       "  <thead>\n",
       "    <tr style=\"text-align: right;\">\n",
       "      <th></th>\n",
       "      <th>AGER_TYP</th>\n",
       "      <th>ALTERSKATEGORIE_GROB</th>\n",
       "      <th>ANREDE_KZ</th>\n",
       "      <th>CJT_GESAMTTYP</th>\n",
       "      <th>FINANZ_MINIMALIST</th>\n",
       "      <th>FINANZ_SPARER</th>\n",
       "      <th>FINANZ_VORSORGER</th>\n",
       "      <th>FINANZ_ANLEGER</th>\n",
       "      <th>FINANZ_UNAUFFAELLIGER</th>\n",
       "      <th>FINANZ_HAUSBAUER</th>\n",
       "      <th>...</th>\n",
       "      <th>PLZ8_ANTG1</th>\n",
       "      <th>PLZ8_ANTG2</th>\n",
       "      <th>PLZ8_ANTG3</th>\n",
       "      <th>PLZ8_ANTG4</th>\n",
       "      <th>PLZ8_BAUMAX</th>\n",
       "      <th>PLZ8_HHZ</th>\n",
       "      <th>PLZ8_GBZ</th>\n",
       "      <th>ARBEIT</th>\n",
       "      <th>ORTSGR_KLS9</th>\n",
       "      <th>RELAT_AB</th>\n",
       "    </tr>\n",
       "  </thead>\n",
       "  <tbody>\n",
       "    <tr>\n",
       "      <th>0</th>\n",
       "      <td>-1</td>\n",
       "      <td>2</td>\n",
       "      <td>1</td>\n",
       "      <td>2.0</td>\n",
       "      <td>3</td>\n",
       "      <td>4</td>\n",
       "      <td>3</td>\n",
       "      <td>5</td>\n",
       "      <td>5</td>\n",
       "      <td>3</td>\n",
       "      <td>...</td>\n",
       "      <td>NaN</td>\n",
       "      <td>NaN</td>\n",
       "      <td>NaN</td>\n",
       "      <td>NaN</td>\n",
       "      <td>NaN</td>\n",
       "      <td>NaN</td>\n",
       "      <td>NaN</td>\n",
       "      <td>NaN</td>\n",
       "      <td>NaN</td>\n",
       "      <td>NaN</td>\n",
       "    </tr>\n",
       "    <tr>\n",
       "      <th>1</th>\n",
       "      <td>-1</td>\n",
       "      <td>1</td>\n",
       "      <td>2</td>\n",
       "      <td>5.0</td>\n",
       "      <td>1</td>\n",
       "      <td>5</td>\n",
       "      <td>2</td>\n",
       "      <td>5</td>\n",
       "      <td>4</td>\n",
       "      <td>5</td>\n",
       "      <td>...</td>\n",
       "      <td>2.0</td>\n",
       "      <td>3.0</td>\n",
       "      <td>2.0</td>\n",
       "      <td>1.0</td>\n",
       "      <td>1.0</td>\n",
       "      <td>5.0</td>\n",
       "      <td>4.0</td>\n",
       "      <td>3.0</td>\n",
       "      <td>5.0</td>\n",
       "      <td>4.0</td>\n",
       "    </tr>\n",
       "    <tr>\n",
       "      <th>2</th>\n",
       "      <td>-1</td>\n",
       "      <td>3</td>\n",
       "      <td>2</td>\n",
       "      <td>3.0</td>\n",
       "      <td>1</td>\n",
       "      <td>4</td>\n",
       "      <td>1</td>\n",
       "      <td>2</td>\n",
       "      <td>3</td>\n",
       "      <td>5</td>\n",
       "      <td>...</td>\n",
       "      <td>3.0</td>\n",
       "      <td>3.0</td>\n",
       "      <td>1.0</td>\n",
       "      <td>0.0</td>\n",
       "      <td>1.0</td>\n",
       "      <td>4.0</td>\n",
       "      <td>4.0</td>\n",
       "      <td>3.0</td>\n",
       "      <td>5.0</td>\n",
       "      <td>2.0</td>\n",
       "    </tr>\n",
       "    <tr>\n",
       "      <th>3</th>\n",
       "      <td>2</td>\n",
       "      <td>4</td>\n",
       "      <td>2</td>\n",
       "      <td>2.0</td>\n",
       "      <td>4</td>\n",
       "      <td>2</td>\n",
       "      <td>5</td>\n",
       "      <td>2</td>\n",
       "      <td>1</td>\n",
       "      <td>2</td>\n",
       "      <td>...</td>\n",
       "      <td>2.0</td>\n",
       "      <td>2.0</td>\n",
       "      <td>2.0</td>\n",
       "      <td>0.0</td>\n",
       "      <td>1.0</td>\n",
       "      <td>3.0</td>\n",
       "      <td>4.0</td>\n",
       "      <td>2.0</td>\n",
       "      <td>3.0</td>\n",
       "      <td>3.0</td>\n",
       "    </tr>\n",
       "    <tr>\n",
       "      <th>4</th>\n",
       "      <td>-1</td>\n",
       "      <td>3</td>\n",
       "      <td>1</td>\n",
       "      <td>5.0</td>\n",
       "      <td>4</td>\n",
       "      <td>3</td>\n",
       "      <td>4</td>\n",
       "      <td>1</td>\n",
       "      <td>3</td>\n",
       "      <td>2</td>\n",
       "      <td>...</td>\n",
       "      <td>2.0</td>\n",
       "      <td>4.0</td>\n",
       "      <td>2.0</td>\n",
       "      <td>1.0</td>\n",
       "      <td>2.0</td>\n",
       "      <td>3.0</td>\n",
       "      <td>3.0</td>\n",
       "      <td>4.0</td>\n",
       "      <td>6.0</td>\n",
       "      <td>5.0</td>\n",
       "    </tr>\n",
       "  </tbody>\n",
       "</table>\n",
       "<p>5 rows × 85 columns</p>\n",
       "</div>"
      ],
      "text/plain": [
       "   AGER_TYP  ALTERSKATEGORIE_GROB  ANREDE_KZ  CJT_GESAMTTYP  \\\n",
       "0        -1                     2          1            2.0   \n",
       "1        -1                     1          2            5.0   \n",
       "2        -1                     3          2            3.0   \n",
       "3         2                     4          2            2.0   \n",
       "4        -1                     3          1            5.0   \n",
       "\n",
       "   FINANZ_MINIMALIST  FINANZ_SPARER  FINANZ_VORSORGER  FINANZ_ANLEGER  \\\n",
       "0                  3              4                 3               5   \n",
       "1                  1              5                 2               5   \n",
       "2                  1              4                 1               2   \n",
       "3                  4              2                 5               2   \n",
       "4                  4              3                 4               1   \n",
       "\n",
       "   FINANZ_UNAUFFAELLIGER  FINANZ_HAUSBAUER    ...     PLZ8_ANTG1  PLZ8_ANTG2  \\\n",
       "0                      5                 3    ...            NaN         NaN   \n",
       "1                      4                 5    ...            2.0         3.0   \n",
       "2                      3                 5    ...            3.0         3.0   \n",
       "3                      1                 2    ...            2.0         2.0   \n",
       "4                      3                 2    ...            2.0         4.0   \n",
       "\n",
       "   PLZ8_ANTG3  PLZ8_ANTG4  PLZ8_BAUMAX  PLZ8_HHZ  PLZ8_GBZ  ARBEIT  \\\n",
       "0         NaN         NaN          NaN       NaN       NaN     NaN   \n",
       "1         2.0         1.0          1.0       5.0       4.0     3.0   \n",
       "2         1.0         0.0          1.0       4.0       4.0     3.0   \n",
       "3         2.0         0.0          1.0       3.0       4.0     2.0   \n",
       "4         2.0         1.0          2.0       3.0       3.0     4.0   \n",
       "\n",
       "   ORTSGR_KLS9  RELAT_AB  \n",
       "0          NaN       NaN  \n",
       "1          5.0       4.0  \n",
       "2          5.0       2.0  \n",
       "3          3.0       3.0  \n",
       "4          6.0       5.0  \n",
       "\n",
       "[5 rows x 85 columns]"
      ]
     },
     "execution_count": 7,
     "metadata": {},
     "output_type": "execute_result"
    }
   ],
   "source": [
    "azdias.head()"
   ]
  },
  {
   "cell_type": "code",
   "execution_count": 8,
   "metadata": {},
   "outputs": [
    {
     "data": {
      "text/html": [
       "<div>\n",
       "<style scoped>\n",
       "    .dataframe tbody tr th:only-of-type {\n",
       "        vertical-align: middle;\n",
       "    }\n",
       "\n",
       "    .dataframe tbody tr th {\n",
       "        vertical-align: top;\n",
       "    }\n",
       "\n",
       "    .dataframe thead th {\n",
       "        text-align: right;\n",
       "    }\n",
       "</style>\n",
       "<table border=\"1\" class=\"dataframe\">\n",
       "  <thead>\n",
       "    <tr style=\"text-align: right;\">\n",
       "      <th></th>\n",
       "      <th>AGER_TYP</th>\n",
       "      <th>ALTERSKATEGORIE_GROB</th>\n",
       "      <th>ANREDE_KZ</th>\n",
       "      <th>CJT_GESAMTTYP</th>\n",
       "      <th>FINANZ_MINIMALIST</th>\n",
       "      <th>FINANZ_SPARER</th>\n",
       "      <th>FINANZ_VORSORGER</th>\n",
       "      <th>FINANZ_ANLEGER</th>\n",
       "      <th>FINANZ_UNAUFFAELLIGER</th>\n",
       "      <th>FINANZ_HAUSBAUER</th>\n",
       "      <th>...</th>\n",
       "      <th>PLZ8_ANTG1</th>\n",
       "      <th>PLZ8_ANTG2</th>\n",
       "      <th>PLZ8_ANTG3</th>\n",
       "      <th>PLZ8_ANTG4</th>\n",
       "      <th>PLZ8_BAUMAX</th>\n",
       "      <th>PLZ8_HHZ</th>\n",
       "      <th>PLZ8_GBZ</th>\n",
       "      <th>ARBEIT</th>\n",
       "      <th>ORTSGR_KLS9</th>\n",
       "      <th>RELAT_AB</th>\n",
       "    </tr>\n",
       "  </thead>\n",
       "  <tbody>\n",
       "    <tr>\n",
       "      <th>count</th>\n",
       "      <td>891221.000000</td>\n",
       "      <td>891221.000000</td>\n",
       "      <td>891221.000000</td>\n",
       "      <td>886367.000000</td>\n",
       "      <td>891221.000000</td>\n",
       "      <td>891221.000000</td>\n",
       "      <td>891221.000000</td>\n",
       "      <td>891221.000000</td>\n",
       "      <td>891221.000000</td>\n",
       "      <td>891221.000000</td>\n",
       "      <td>...</td>\n",
       "      <td>774706.000000</td>\n",
       "      <td>774706.000000</td>\n",
       "      <td>774706.000000</td>\n",
       "      <td>774706.000000</td>\n",
       "      <td>774706.000000</td>\n",
       "      <td>774706.000000</td>\n",
       "      <td>774706.000000</td>\n",
       "      <td>794005.000000</td>\n",
       "      <td>794005.000000</td>\n",
       "      <td>794005.00000</td>\n",
       "    </tr>\n",
       "    <tr>\n",
       "      <th>mean</th>\n",
       "      <td>-0.358435</td>\n",
       "      <td>2.777398</td>\n",
       "      <td>1.522098</td>\n",
       "      <td>3.632838</td>\n",
       "      <td>3.074528</td>\n",
       "      <td>2.821039</td>\n",
       "      <td>3.401106</td>\n",
       "      <td>3.033328</td>\n",
       "      <td>2.874167</td>\n",
       "      <td>3.075121</td>\n",
       "      <td>...</td>\n",
       "      <td>2.253330</td>\n",
       "      <td>2.801858</td>\n",
       "      <td>1.595426</td>\n",
       "      <td>0.699166</td>\n",
       "      <td>1.943913</td>\n",
       "      <td>3.612821</td>\n",
       "      <td>3.381087</td>\n",
       "      <td>3.167854</td>\n",
       "      <td>5.293002</td>\n",
       "      <td>3.07222</td>\n",
       "    </tr>\n",
       "    <tr>\n",
       "      <th>std</th>\n",
       "      <td>1.198724</td>\n",
       "      <td>1.068775</td>\n",
       "      <td>0.499512</td>\n",
       "      <td>1.595021</td>\n",
       "      <td>1.321055</td>\n",
       "      <td>1.464749</td>\n",
       "      <td>1.322134</td>\n",
       "      <td>1.529603</td>\n",
       "      <td>1.486731</td>\n",
       "      <td>1.353248</td>\n",
       "      <td>...</td>\n",
       "      <td>0.972008</td>\n",
       "      <td>0.920309</td>\n",
       "      <td>0.986736</td>\n",
       "      <td>0.727137</td>\n",
       "      <td>1.459654</td>\n",
       "      <td>0.973967</td>\n",
       "      <td>1.111598</td>\n",
       "      <td>1.002376</td>\n",
       "      <td>2.303739</td>\n",
       "      <td>1.36298</td>\n",
       "    </tr>\n",
       "    <tr>\n",
       "      <th>min</th>\n",
       "      <td>-1.000000</td>\n",
       "      <td>1.000000</td>\n",
       "      <td>1.000000</td>\n",
       "      <td>1.000000</td>\n",
       "      <td>1.000000</td>\n",
       "      <td>1.000000</td>\n",
       "      <td>1.000000</td>\n",
       "      <td>1.000000</td>\n",
       "      <td>1.000000</td>\n",
       "      <td>1.000000</td>\n",
       "      <td>...</td>\n",
       "      <td>0.000000</td>\n",
       "      <td>0.000000</td>\n",
       "      <td>0.000000</td>\n",
       "      <td>0.000000</td>\n",
       "      <td>1.000000</td>\n",
       "      <td>1.000000</td>\n",
       "      <td>1.000000</td>\n",
       "      <td>1.000000</td>\n",
       "      <td>0.000000</td>\n",
       "      <td>1.00000</td>\n",
       "    </tr>\n",
       "    <tr>\n",
       "      <th>25%</th>\n",
       "      <td>-1.000000</td>\n",
       "      <td>2.000000</td>\n",
       "      <td>1.000000</td>\n",
       "      <td>2.000000</td>\n",
       "      <td>2.000000</td>\n",
       "      <td>1.000000</td>\n",
       "      <td>3.000000</td>\n",
       "      <td>2.000000</td>\n",
       "      <td>2.000000</td>\n",
       "      <td>2.000000</td>\n",
       "      <td>...</td>\n",
       "      <td>1.000000</td>\n",
       "      <td>2.000000</td>\n",
       "      <td>1.000000</td>\n",
       "      <td>0.000000</td>\n",
       "      <td>1.000000</td>\n",
       "      <td>3.000000</td>\n",
       "      <td>3.000000</td>\n",
       "      <td>3.000000</td>\n",
       "      <td>4.000000</td>\n",
       "      <td>2.00000</td>\n",
       "    </tr>\n",
       "    <tr>\n",
       "      <th>50%</th>\n",
       "      <td>-1.000000</td>\n",
       "      <td>3.000000</td>\n",
       "      <td>2.000000</td>\n",
       "      <td>4.000000</td>\n",
       "      <td>3.000000</td>\n",
       "      <td>3.000000</td>\n",
       "      <td>3.000000</td>\n",
       "      <td>3.000000</td>\n",
       "      <td>3.000000</td>\n",
       "      <td>3.000000</td>\n",
       "      <td>...</td>\n",
       "      <td>2.000000</td>\n",
       "      <td>3.000000</td>\n",
       "      <td>2.000000</td>\n",
       "      <td>1.000000</td>\n",
       "      <td>1.000000</td>\n",
       "      <td>4.000000</td>\n",
       "      <td>3.000000</td>\n",
       "      <td>3.000000</td>\n",
       "      <td>5.000000</td>\n",
       "      <td>3.00000</td>\n",
       "    </tr>\n",
       "    <tr>\n",
       "      <th>75%</th>\n",
       "      <td>-1.000000</td>\n",
       "      <td>4.000000</td>\n",
       "      <td>2.000000</td>\n",
       "      <td>5.000000</td>\n",
       "      <td>4.000000</td>\n",
       "      <td>4.000000</td>\n",
       "      <td>5.000000</td>\n",
       "      <td>5.000000</td>\n",
       "      <td>4.000000</td>\n",
       "      <td>4.000000</td>\n",
       "      <td>...</td>\n",
       "      <td>3.000000</td>\n",
       "      <td>3.000000</td>\n",
       "      <td>2.000000</td>\n",
       "      <td>1.000000</td>\n",
       "      <td>3.000000</td>\n",
       "      <td>4.000000</td>\n",
       "      <td>4.000000</td>\n",
       "      <td>4.000000</td>\n",
       "      <td>7.000000</td>\n",
       "      <td>4.00000</td>\n",
       "    </tr>\n",
       "    <tr>\n",
       "      <th>max</th>\n",
       "      <td>3.000000</td>\n",
       "      <td>9.000000</td>\n",
       "      <td>2.000000</td>\n",
       "      <td>6.000000</td>\n",
       "      <td>5.000000</td>\n",
       "      <td>5.000000</td>\n",
       "      <td>5.000000</td>\n",
       "      <td>5.000000</td>\n",
       "      <td>5.000000</td>\n",
       "      <td>5.000000</td>\n",
       "      <td>...</td>\n",
       "      <td>4.000000</td>\n",
       "      <td>4.000000</td>\n",
       "      <td>3.000000</td>\n",
       "      <td>2.000000</td>\n",
       "      <td>5.000000</td>\n",
       "      <td>5.000000</td>\n",
       "      <td>5.000000</td>\n",
       "      <td>9.000000</td>\n",
       "      <td>9.000000</td>\n",
       "      <td>9.00000</td>\n",
       "    </tr>\n",
       "  </tbody>\n",
       "</table>\n",
       "<p>8 rows × 81 columns</p>\n",
       "</div>"
      ],
      "text/plain": [
       "            AGER_TYP  ALTERSKATEGORIE_GROB      ANREDE_KZ  CJT_GESAMTTYP  \\\n",
       "count  891221.000000         891221.000000  891221.000000  886367.000000   \n",
       "mean       -0.358435              2.777398       1.522098       3.632838   \n",
       "std         1.198724              1.068775       0.499512       1.595021   \n",
       "min        -1.000000              1.000000       1.000000       1.000000   \n",
       "25%        -1.000000              2.000000       1.000000       2.000000   \n",
       "50%        -1.000000              3.000000       2.000000       4.000000   \n",
       "75%        -1.000000              4.000000       2.000000       5.000000   \n",
       "max         3.000000              9.000000       2.000000       6.000000   \n",
       "\n",
       "       FINANZ_MINIMALIST  FINANZ_SPARER  FINANZ_VORSORGER  FINANZ_ANLEGER  \\\n",
       "count      891221.000000  891221.000000     891221.000000   891221.000000   \n",
       "mean            3.074528       2.821039          3.401106        3.033328   \n",
       "std             1.321055       1.464749          1.322134        1.529603   \n",
       "min             1.000000       1.000000          1.000000        1.000000   \n",
       "25%             2.000000       1.000000          3.000000        2.000000   \n",
       "50%             3.000000       3.000000          3.000000        3.000000   \n",
       "75%             4.000000       4.000000          5.000000        5.000000   \n",
       "max             5.000000       5.000000          5.000000        5.000000   \n",
       "\n",
       "       FINANZ_UNAUFFAELLIGER  FINANZ_HAUSBAUER      ...          PLZ8_ANTG1  \\\n",
       "count          891221.000000     891221.000000      ...       774706.000000   \n",
       "mean                2.874167          3.075121      ...            2.253330   \n",
       "std                 1.486731          1.353248      ...            0.972008   \n",
       "min                 1.000000          1.000000      ...            0.000000   \n",
       "25%                 2.000000          2.000000      ...            1.000000   \n",
       "50%                 3.000000          3.000000      ...            2.000000   \n",
       "75%                 4.000000          4.000000      ...            3.000000   \n",
       "max                 5.000000          5.000000      ...            4.000000   \n",
       "\n",
       "          PLZ8_ANTG2     PLZ8_ANTG3     PLZ8_ANTG4    PLZ8_BAUMAX  \\\n",
       "count  774706.000000  774706.000000  774706.000000  774706.000000   \n",
       "mean        2.801858       1.595426       0.699166       1.943913   \n",
       "std         0.920309       0.986736       0.727137       1.459654   \n",
       "min         0.000000       0.000000       0.000000       1.000000   \n",
       "25%         2.000000       1.000000       0.000000       1.000000   \n",
       "50%         3.000000       2.000000       1.000000       1.000000   \n",
       "75%         3.000000       2.000000       1.000000       3.000000   \n",
       "max         4.000000       3.000000       2.000000       5.000000   \n",
       "\n",
       "            PLZ8_HHZ       PLZ8_GBZ         ARBEIT    ORTSGR_KLS9  \\\n",
       "count  774706.000000  774706.000000  794005.000000  794005.000000   \n",
       "mean        3.612821       3.381087       3.167854       5.293002   \n",
       "std         0.973967       1.111598       1.002376       2.303739   \n",
       "min         1.000000       1.000000       1.000000       0.000000   \n",
       "25%         3.000000       3.000000       3.000000       4.000000   \n",
       "50%         4.000000       3.000000       3.000000       5.000000   \n",
       "75%         4.000000       4.000000       4.000000       7.000000   \n",
       "max         5.000000       5.000000       9.000000       9.000000   \n",
       "\n",
       "           RELAT_AB  \n",
       "count  794005.00000  \n",
       "mean        3.07222  \n",
       "std         1.36298  \n",
       "min         1.00000  \n",
       "25%         2.00000  \n",
       "50%         3.00000  \n",
       "75%         4.00000  \n",
       "max         9.00000  \n",
       "\n",
       "[8 rows x 81 columns]"
      ]
     },
     "execution_count": 8,
     "metadata": {},
     "output_type": "execute_result"
    }
   ],
   "source": [
    "azdias.describe()"
   ]
  },
  {
   "cell_type": "code",
   "execution_count": 9,
   "metadata": {},
   "outputs": [
    {
     "data": {
      "text/plain": [
       "(85, 4)"
      ]
     },
     "execution_count": 9,
     "metadata": {},
     "output_type": "execute_result"
    }
   ],
   "source": [
    "feat_info.shape"
   ]
  },
  {
   "cell_type": "code",
   "execution_count": 10,
   "metadata": {},
   "outputs": [
    {
     "data": {
      "text/html": [
       "<div>\n",
       "<style scoped>\n",
       "    .dataframe tbody tr th:only-of-type {\n",
       "        vertical-align: middle;\n",
       "    }\n",
       "\n",
       "    .dataframe tbody tr th {\n",
       "        vertical-align: top;\n",
       "    }\n",
       "\n",
       "    .dataframe thead th {\n",
       "        text-align: right;\n",
       "    }\n",
       "</style>\n",
       "<table border=\"1\" class=\"dataframe\">\n",
       "  <thead>\n",
       "    <tr style=\"text-align: right;\">\n",
       "      <th></th>\n",
       "      <th>attribute</th>\n",
       "      <th>information_level</th>\n",
       "      <th>type</th>\n",
       "      <th>missing_or_unknown</th>\n",
       "    </tr>\n",
       "  </thead>\n",
       "  <tbody>\n",
       "    <tr>\n",
       "      <th>0</th>\n",
       "      <td>AGER_TYP</td>\n",
       "      <td>person</td>\n",
       "      <td>categorical</td>\n",
       "      <td>[-1,0]</td>\n",
       "    </tr>\n",
       "    <tr>\n",
       "      <th>1</th>\n",
       "      <td>ALTERSKATEGORIE_GROB</td>\n",
       "      <td>person</td>\n",
       "      <td>ordinal</td>\n",
       "      <td>[-1,0,9]</td>\n",
       "    </tr>\n",
       "    <tr>\n",
       "      <th>2</th>\n",
       "      <td>ANREDE_KZ</td>\n",
       "      <td>person</td>\n",
       "      <td>categorical</td>\n",
       "      <td>[-1,0]</td>\n",
       "    </tr>\n",
       "    <tr>\n",
       "      <th>3</th>\n",
       "      <td>CJT_GESAMTTYP</td>\n",
       "      <td>person</td>\n",
       "      <td>categorical</td>\n",
       "      <td>[0]</td>\n",
       "    </tr>\n",
       "    <tr>\n",
       "      <th>4</th>\n",
       "      <td>FINANZ_MINIMALIST</td>\n",
       "      <td>person</td>\n",
       "      <td>ordinal</td>\n",
       "      <td>[-1]</td>\n",
       "    </tr>\n",
       "  </tbody>\n",
       "</table>\n",
       "</div>"
      ],
      "text/plain": [
       "              attribute information_level         type missing_or_unknown\n",
       "0              AGER_TYP            person  categorical             [-1,0]\n",
       "1  ALTERSKATEGORIE_GROB            person      ordinal           [-1,0,9]\n",
       "2             ANREDE_KZ            person  categorical             [-1,0]\n",
       "3         CJT_GESAMTTYP            person  categorical                [0]\n",
       "4     FINANZ_MINIMALIST            person      ordinal               [-1]"
      ]
     },
     "execution_count": 10,
     "metadata": {},
     "output_type": "execute_result"
    }
   ],
   "source": [
    "feat_info.head()"
   ]
  },
  {
   "cell_type": "markdown",
   "metadata": {},
   "source": [
    "> **Tip**: Add additional cells to keep everything in reasonably-sized chunks! Keyboard shortcut `esc --> a` (press escape to enter command mode, then press the 'A' key) adds a new cell before the active cell, and `esc --> b` adds a new cell after the active cell. If you need to convert an active cell to a markdown cell, use `esc --> m` and to convert to a code cell, use `esc --> y`. \n",
    "\n",
    "## Step 1: Preprocessing\n",
    "\n",
    "### Step 1.1: Assess Missing Data\n",
    "\n",
    "The feature summary file contains a summary of properties for each demographics data column. You will use this file to help you make cleaning decisions during this stage of the project. First of all, you should assess the demographics data in terms of missing data. Pay attention to the following points as you perform your analysis, and take notes on what you observe. Make sure that you fill in the **Discussion** cell with your findings and decisions at the end of each step that has one!\n",
    "\n",
    "#### Step 1.1.1: Convert Missing Value Codes to NaNs\n",
    "The fourth column of the feature attributes summary (loaded in above as `feat_info`) documents the codes from the data dictionary that indicate missing or unknown data. While the file encodes this as a list (e.g. `[-1,0]`), this will get read in as a string object. You'll need to do a little bit of parsing to make use of it to identify and clean the data. Convert data that matches a 'missing' or 'unknown' value code into a numpy NaN value. You might want to see how much data takes on a 'missing' or 'unknown' code, and how much data is naturally missing, as a point of interest.\n",
    "\n",
    "**As one more reminder, you are encouraged to add additional cells to break up your analysis into manageable chunks.**"
   ]
  },
  {
   "cell_type": "code",
   "execution_count": 18,
   "metadata": {},
   "outputs": [],
   "source": [
    "feat_info_copy=feat_info.copy()"
   ]
  },
  {
   "cell_type": "code",
   "execution_count": 19,
   "metadata": {},
   "outputs": [
    {
     "name": "stdout",
     "output_type": "stream",
     "text": [
      "total_missing_percent : 6.464149613118342%\n",
      "KK_KUNDENTYP             65.596749\n",
      "KBA05_ANTG1              14.959701\n",
      "KBA05_ANTG2              14.959701\n",
      "KBA05_ANTG3              14.959701\n",
      "KBA05_ANTG4              14.959701\n",
      "KBA05_BAUMAX             14.959701\n",
      "KBA05_GBZ                14.959701\n",
      "MOBI_REGIO               14.959701\n",
      "REGIOTYP                 13.598872\n",
      "KKK                      13.598872\n",
      "PLZ8_ANTG3               13.073637\n",
      "PLZ8_ANTG1               13.073637\n",
      "PLZ8_GBZ                 13.073637\n",
      "PLZ8_ANTG2               13.073637\n",
      "PLZ8_HHZ                 13.073637\n",
      "PLZ8_BAUMAX              13.073637\n",
      "PLZ8_ANTG4               13.073637\n",
      "W_KEIT_KIND_HH           12.073549\n",
      "KBA13_ANZAHL_PKW         11.871354\n",
      "CAMEO_INTL_2015          11.106000\n",
      "CAMEO_DEU_2015           11.106000\n",
      "CAMEO_DEUG_2015          11.106000\n",
      "ORTSGR_KLS9              10.908181\n",
      "ARBEIT                   10.908181\n",
      "RELAT_AB                 10.908181\n",
      "ANZ_HH_TITEL             10.884842\n",
      "BALLRAUM                 10.518154\n",
      "EWDICHTE                 10.518154\n",
      "INNENSTADT               10.518154\n",
      "GEBAEUDETYP_RASTER       10.452514\n",
      "                           ...    \n",
      "FINANZ_HAUSBAUER          0.000000\n",
      "FINANZTYP                 0.000000\n",
      "GEBURTSJAHR               0.000000\n",
      "FINANZ_VORSORGER          0.000000\n",
      "GREEN_AVANTGARDE          0.000000\n",
      "HEALTH_TYP                0.000000\n",
      "FINANZ_SPARER             0.000000\n",
      "ANREDE_KZ                 0.000000\n",
      "ALTERSKATEGORIE_GROB      0.000000\n",
      "FINANZ_MINIMALIST         0.000000\n",
      "ZABEOTYP                  0.000000\n",
      "NATIONALITAET_KZ          0.000000\n",
      "SEMIO_RAT                 0.000000\n",
      "VERS_TYP                  0.000000\n",
      "SHOPPER_TYP               0.000000\n",
      "SEMIO_TRADV               0.000000\n",
      "SEMIO_PFLICHT             0.000000\n",
      "SEMIO_KAEM                0.000000\n",
      "SEMIO_DOM                 0.000000\n",
      "SEMIO_KRIT                0.000000\n",
      "SEMIO_KULT                0.000000\n",
      "PRAEGENDE_JUGENDJAHRE     0.000000\n",
      "SEMIO_ERL                 0.000000\n",
      "SEMIO_LUST                0.000000\n",
      "SEMIO_VERT                0.000000\n",
      "SEMIO_MAT                 0.000000\n",
      "SEMIO_REL                 0.000000\n",
      "SEMIO_FAM                 0.000000\n",
      "SEMIO_SOZ                 0.000000\n",
      "AGER_TYP                  0.000000\n",
      "Length: 85, dtype: float64\n"
     ]
    }
   ],
   "source": [
    "total_missing_percent=(azdias.isnull().sum().sum()/np.product(azdias.shape))*100\n",
    "print('total_missing_percent : {}%'.format(total_missing_percent))\n",
    "naturally_missing_percent=(azdias.isnull().mean()*100).sort_values(ascending=False)\n",
    "print(naturally_missing_percent)"
   ]
  },
  {
   "cell_type": "code",
   "execution_count": 20,
   "metadata": {},
   "outputs": [],
   "source": [
    "for idx in range(len(feat_info_copy)):\n",
    "    M_O_U=feat_info_copy.iloc[idx].missing_or_unknown.strip(\"[]\").split(',')\n",
    "    M_O_U=[int(elem) if (elem!='XX' and elem!='X' and elem!='') else elem for elem in M_O_U]\n",
    "    if M_O_U!=['']:\n",
    "        azdias=azdias.replace({feat_info_copy.iloc[idx]['attribute']:M_O_U},np.nan)\n",
    "    "
   ]
  },
  {
   "cell_type": "code",
   "execution_count": 21,
   "metadata": {},
   "outputs": [
    {
     "name": "stdout",
     "output_type": "stream",
     "text": [
      "total_missing_percent : 11.05413940702765%\n",
      "TITEL_KZ                 99.757636\n",
      "AGER_TYP                 76.955435\n",
      "KK_KUNDENTYP             65.596749\n",
      "KBA05_BAUMAX             53.468668\n",
      "GEBURTSJAHR              44.020282\n",
      "ALTER_HH                 34.813699\n",
      "REGIOTYP                 17.735668\n",
      "KKK                      17.735668\n",
      "W_KEIT_KIND_HH           16.605084\n",
      "KBA05_ANTG4              14.959701\n",
      "KBA05_GBZ                14.959701\n",
      "MOBI_REGIO               14.959701\n",
      "KBA05_ANTG1              14.959701\n",
      "KBA05_ANTG2              14.959701\n",
      "KBA05_ANTG3              14.959701\n",
      "PLZ8_GBZ                 13.073637\n",
      "PLZ8_HHZ                 13.073637\n",
      "PLZ8_BAUMAX              13.073637\n",
      "PLZ8_ANTG4               13.073637\n",
      "PLZ8_ANTG1               13.073637\n",
      "PLZ8_ANTG3               13.073637\n",
      "PLZ8_ANTG2               13.073637\n",
      "SHOPPER_TYP              12.476816\n",
      "VERS_TYP                 12.476816\n",
      "HEALTH_TYP               12.476816\n",
      "NATIONALITAET_KZ         12.153551\n",
      "PRAEGENDE_JUGENDJAHRE    12.136608\n",
      "KBA13_ANZAHL_PKW         11.871354\n",
      "ANZ_HAUSHALTE_AKTIV      11.176913\n",
      "CAMEO_INTL_2015          11.147852\n",
      "                           ...    \n",
      "RETOURTYP_BK_S            0.544646\n",
      "ONLINE_AFFINITAET         0.544646\n",
      "LP_STATUS_FEIN            0.544646\n",
      "LP_STATUS_GROB            0.544646\n",
      "GFK_URLAUBERTYP           0.544646\n",
      "ALTERSKATEGORIE_GROB      0.323264\n",
      "FINANZTYP                 0.000000\n",
      "GREEN_AVANTGARDE          0.000000\n",
      "FINANZ_HAUSBAUER          0.000000\n",
      "FINANZ_UNAUFFAELLIGER     0.000000\n",
      "FINANZ_ANLEGER            0.000000\n",
      "FINANZ_SPARER             0.000000\n",
      "FINANZ_MINIMALIST         0.000000\n",
      "ANREDE_KZ                 0.000000\n",
      "FINANZ_VORSORGER          0.000000\n",
      "SEMIO_FAM                 0.000000\n",
      "SEMIO_SOZ                 0.000000\n",
      "SEMIO_REL                 0.000000\n",
      "SEMIO_MAT                 0.000000\n",
      "SEMIO_VERT                0.000000\n",
      "SEMIO_LUST                0.000000\n",
      "SEMIO_ERL                 0.000000\n",
      "SEMIO_KULT                0.000000\n",
      "SEMIO_RAT                 0.000000\n",
      "SEMIO_KRIT                0.000000\n",
      "SEMIO_DOM                 0.000000\n",
      "SEMIO_KAEM                0.000000\n",
      "SEMIO_PFLICHT             0.000000\n",
      "SEMIO_TRADV               0.000000\n",
      "ZABEOTYP                  0.000000\n",
      "Length: 85, dtype: float64\n"
     ]
    }
   ],
   "source": [
    "total_missing_percent=(azdias.isnull().sum().sum()/np.product(azdias.shape))*100\n",
    "print('total_missing_percent : {}%'.format(total_missing_percent))\n",
    "missing_data_percent_after_replacement=(azdias.isnull().mean()*100).sort_values(ascending=False)\n",
    "print(missing_data_percent_after_replacement)"
   ]
  },
  {
   "cell_type": "markdown",
   "metadata": {},
   "source": [
    "#### Step 1.1.2: Assess Missing Data in Each Column\n",
    "\n",
    "How much missing data is present in each column? There are a few columns that are outliers in terms of the proportion of values that are missing. You will want to use matplotlib's [`hist()`](https://matplotlib.org/api/_as_gen/matplotlib.pyplot.hist.html) function to visualize the distribution of missing value counts to find these columns. Identify and document these columns. While some of these columns might have justifications for keeping or re-encoding the data, for this project you should just remove them from the dataframe. (Feel free to make remarks about these outlier columns in the discussion, however!)\n",
    "\n",
    "For the remaining features, are there any patterns in which columns have, or share, missing data?"
   ]
  },
  {
   "cell_type": "code",
   "execution_count": 22,
   "metadata": {},
   "outputs": [],
   "source": [
    "# Perform an assessment of how much missing data there is in each column of the\n",
    "# dataset.\n",
    "\n",
    "s1=pd.Series(azdias.isna().sum()/len(azdias)*100,name='Missing_Percent')\n",
    "s2=pd.Series(azdias.columns.values)\n",
    "for_hist=pd.DataFrame(s1,index=s2)\n",
    "for_hist.sort_values(by='Missing_Percent',ascending=False,inplace=True)"
   ]
  },
  {
   "cell_type": "code",
   "execution_count": 23,
   "metadata": {},
   "outputs": [
    {
     "data": {
      "text/plain": [
       "61"
      ]
     },
     "execution_count": 23,
     "metadata": {},
     "output_type": "execute_result"
    }
   ],
   "source": [
    "len(azdias.isna().sum()[azdias.isna().sum()>0])"
   ]
  },
  {
   "cell_type": "code",
   "execution_count": 24,
   "metadata": {},
   "outputs": [
    {
     "data": {
      "text/plain": [
       "Text(0,0.5,'Number of columns')"
      ]
     },
     "execution_count": 24,
     "metadata": {},
     "output_type": "execute_result"
    },
    {
     "data": {
      "image/png": "[encoded data removed]",
      "text/plain": [
       "<matplotlib.figure.Figure at 0x7f63da71ac18>"
      ]
     },
     "metadata": {
      "needs_background": "light"
     },
     "output_type": "display_data"
    }
   ],
   "source": [
    "# Investigate patterns in the amount of missing data in each column.\n",
    "plt.hist(s1,bins=85)\n",
    "plt.title('Missing percentage vs Number of Columns')\n",
    "plt.xlabel('Missing Percentage')\n",
    "plt.ylabel('Number of columns')"
   ]
  },
  {
   "cell_type": "code",
   "execution_count": 25,
   "metadata": {},
   "outputs": [
    {
     "data": {
      "text/plain": [
       "<matplotlib.axes._subplots.AxesSubplot at 0x7f63da59ed68>"
      ]
     },
     "execution_count": 25,
     "metadata": {},
     "output_type": "execute_result"
    },
    {
     "data": {
      "image/png": "[encoded data removed]",
      "text/plain": [
       "<matplotlib.figure.Figure at 0x7f63da61ef28>"
      ]
     },
     "metadata": {
      "needs_background": "light"
     },
     "output_type": "display_data"
    }
   ],
   "source": [
    "for_hist.Missing_Percent.plot.bar(figsize=(20,15))"
   ]
  },
  {
   "cell_type": "code",
   "execution_count": 26,
   "metadata": {},
   "outputs": [],
   "source": [
    "# Remove the outlier columns from the dataset. (You'll perform other data\n",
    "# engineering tasks such as re-encoding and imputation later.)\n",
    "\n",
    "drop_cols_name=for_hist[for_hist['Missing_Percent']>20].index.tolist()\n",
    "azdias.drop(columns=drop_cols_name,inplace=True)"
   ]
  },
  {
   "cell_type": "code",
   "execution_count": 27,
   "metadata": {},
   "outputs": [
    {
     "data": {
      "text/plain": [
       "['TITEL_KZ',\n",
       " 'AGER_TYP',\n",
       " 'KK_KUNDENTYP',\n",
       " 'KBA05_BAUMAX',\n",
       " 'GEBURTSJAHR',\n",
       " 'ALTER_HH']"
      ]
     },
     "execution_count": 27,
     "metadata": {},
     "output_type": "execute_result"
    }
   ],
   "source": [
    "drop_cols_name"
   ]
  },
  {
   "cell_type": "code",
   "execution_count": 28,
   "metadata": {},
   "outputs": [
    {
     "data": {
      "text/plain": [
       "79"
      ]
     },
     "execution_count": 28,
     "metadata": {},
     "output_type": "execute_result"
    }
   ],
   "source": [
    "for_hist.drop(drop_cols_name,inplace=True)\n",
    "len(for_hist)"
   ]
  },
  {
   "cell_type": "code",
   "execution_count": 29,
   "metadata": {},
   "outputs": [
    {
     "data": {
      "text/plain": [
       "<matplotlib.axes._subplots.AxesSubplot at 0x7f63d835bd30>"
      ]
     },
     "execution_count": 29,
     "metadata": {},
     "output_type": "execute_result"
    },
    {
     "data": {
      "image/png": "[encoded data removed]",
      "text/plain": [
       "<matplotlib.figure.Figure at 0x7f63d836e048>"
      ]
     },
     "metadata": {
      "needs_background": "light"
     },
     "output_type": "display_data"
    }
   ],
   "source": [
    "for_hist.Missing_Percent.plot.bar(figsize=(20,10))"
   ]
  },
  {
   "cell_type": "code",
   "execution_count": 30,
   "metadata": {},
   "outputs": [],
   "source": [
    "feat_info_copy.set_index('attribute',drop=False,inplace=True)\n",
    "feat_info_copy.drop(drop_cols_name,inplace=True)"
   ]
  },
  {
   "cell_type": "code",
   "execution_count": 31,
   "metadata": {},
   "outputs": [
    {
     "data": {
      "text/plain": [
       "(85, 4)"
      ]
     },
     "execution_count": 31,
     "metadata": {},
     "output_type": "execute_result"
    }
   ],
   "source": [
    "feat_info.shape"
   ]
  },
  {
   "cell_type": "code",
   "execution_count": 32,
   "metadata": {},
   "outputs": [
    {
     "data": {
      "text/plain": [
       "(79, 4)"
      ]
     },
     "execution_count": 32,
     "metadata": {},
     "output_type": "execute_result"
    }
   ],
   "source": [
    "feat_info_copy.shape"
   ]
  },
  {
   "cell_type": "markdown",
   "metadata": {},
   "source": [
    "#### Discussion 1.1.2: Assess Missing Data in Each Column\n",
    "\n",
    "1) Total missing values percentage before and after replacement are nearly 6.5% and 11.05% respectively.\n",
    "\n",
    "2) As I have calculated the naturally missing percent and missing percent after replacement, I observed that in naturally missing data KK_KUNDENTYP was having highest missing percent 65.59% whereas after replacement TITEL_KZ ia having highest missing data with 99.75%. Similarly trend for other features can also be seen in above cells for each feature.\n",
    "\n",
    "3) There are 61 features whose data is missing, after investigating the features with the help of matplotlib histogram, we observed that 6 features are having much higher missing percentage values i.e they are outliers.\n",
    "['TITEL_KZ', 'AGER_TYP', 'KK_KUNDENTYP', 'KBA05_BAUMAX', 'GEBURTSJAHR', 'ALTER_HH']\n",
    "\n",
    "4) Therefore, as recommended it is better to drop these features in order to do further analysis of the data."
   ]
  },
  {
   "cell_type": "markdown",
   "metadata": {},
   "source": [
    "#### Step 1.1.3: Assess Missing Data in Each Row\n",
    "\n",
    "Now, you'll perform a similar assessment for the rows of the dataset. How much data is missing in each row? As with the columns, you should see some groups of points that have a very different numbers of missing values. Divide the data into two subsets: one for data points that are above some threshold for missing values, and a second subset for points below that threshold.\n",
    "\n",
    "In order to know what to do with the outlier rows, we should see if the distribution of data values on columns that are not missing data (or are missing very little data) are similar or different between the two groups. Select at least five of these columns and compare the distribution of values.\n",
    "- You can use seaborn's [`countplot()`](https://seaborn.pydata.org/generated/seaborn.countplot.html) function to create a bar chart of code frequencies and matplotlib's [`subplot()`](https://matplotlib.org/api/_as_gen/matplotlib.pyplot.subplot.html) function to put bar charts for the two subplots side by side.\n",
    "- To reduce repeated code, you might want to write a function that can perform this comparison, taking as one of its arguments a column to be compared.\n",
    "\n",
    "Depending on what you observe in your comparison, this will have implications on how you approach your conclusions later in the analysis. If the distributions of non-missing features look similar between the data with many missing values and the data with few or no missing values, then we could argue that simply dropping those points from the analysis won't present a major issue. On the other hand, if the data with many missing values looks very different from the data with few or no missing values, then we should make a note on those data as special. We'll revisit these data later on. **Either way, you should continue your analysis for now using just the subset of the data with few or no missing values.**"
   ]
  },
  {
   "cell_type": "code",
   "execution_count": 33,
   "metadata": {},
   "outputs": [
    {
     "name": "stdout",
     "output_type": "stream",
     "text": [
      "30.07245116531141\n",
      "69.9275488346886\n"
     ]
    }
   ],
   "source": [
    "missing_data_row_percent=len(azdias.isna().sum(axis=1)[azdias.isna().sum(axis=1)>0])/len(azdias)*100\n",
    "no_missing_data_row_percent=len(azdias.isna().sum(axis=1)[azdias.isna().sum(axis=1)==0])/len(azdias)*100\n",
    "print(missing_data_row_percent)\n",
    "print(no_missing_data_row_percent)"
   ]
  },
  {
   "cell_type": "code",
   "execution_count": 34,
   "metadata": {
    "scrolled": true
   },
   "outputs": [
    {
     "data": {
      "image/png": "[encoded data removed]",
      "text/plain": [
       "<matplotlib.figure.Figure at 0x7f63d694b550>"
      ]
     },
     "metadata": {
      "needs_background": "light"
     },
     "output_type": "display_data"
    }
   ],
   "source": [
    "# How much data is missing in each row of the dataset?\n",
    "missing_data_row=azdias.isna().sum(axis=1)\n",
    "plt.hist(missing_data_row,bins=60)\n",
    "plt.xticks(np.arange(0,50,2))\n",
    "plt.grid()"
   ]
  },
  {
   "cell_type": "code",
   "execution_count": 35,
   "metadata": {},
   "outputs": [],
   "source": [
    "# Write code to divide the data into two subsets based on the number of missing\n",
    "# values in each row.\n",
    "\n",
    "azdias_less_missing=azdias[azdias.isna().sum(axis=1)<=20]\n",
    "azdias_more_missing=azdias[azdias.isna().sum(axis=1)>20]"
   ]
  },
  {
   "cell_type": "code",
   "execution_count": 36,
   "metadata": {},
   "outputs": [
    {
     "name": "stdout",
     "output_type": "stream",
     "text": [
      "797426\n",
      "93795\n"
     ]
    }
   ],
   "source": [
    "print(len(azdias_less_missing))\n",
    "print(len(azdias_more_missing))"
   ]
  },
  {
   "cell_type": "code",
   "execution_count": 37,
   "metadata": {},
   "outputs": [],
   "source": [
    "no_missing_cols=for_hist[for_hist.Missing_Percent==0].index.tolist()\n",
    "six_cols=random.choices(no_missing_cols,k=6)"
   ]
  },
  {
   "cell_type": "code",
   "execution_count": 38,
   "metadata": {},
   "outputs": [
    {
     "data": {
      "image/png": "[encoded data removed]",
      "text/plain": [
       "<matplotlib.figure.Figure at 0x7f63d682b390>"
      ]
     },
     "metadata": {
      "needs_background": "light"
     },
     "output_type": "display_data"
    }
   ],
   "source": [
    "# Compare the distribution of values for at least five columns where there are\n",
    "# no or few missing values, between the two subsets.\n",
    "figures,axes=plt.subplots(nrows=6,ncols=2,figsize=(15,20))\n",
    "figures.subplots_adjust(hspace = 1, wspace=.3)\n",
    "for i in range(6):\n",
    "    sns.countplot(azdias_less_missing[six_cols[i]],ax=axes[i][0])\n",
    "    axes[i][0].set_title(\"few or no missing values\")\n",
    "    sns.countplot(azdias_more_missing[six_cols[i]],ax=axes[i][1])\n",
    "    axes[i][1].set_title(\"many missing values\")\n",
    "\n"
   ]
  },
  {
   "cell_type": "markdown",
   "metadata": {},
   "source": [
    "#### Discussion 1.1.3: Assess Missing Data in Each Row\n",
    "\n",
    "1) Nearly, 30% of the row data were missing from the dataset and rest nearly 70% rows doesn't have missing data.\n",
    "\n",
    "2) From the histogram we observed that major number of rows are missing with features less than or equal to 20, so I took 20 as my threshold and divided the dataset based on it. If we take very less number of features such as 2 or 3 to split our dataset since it's looking like many rows are missing only 2-3 features, we may end up with loss of useful information.  \n",
    "\n",
    "3) Next I compared the divided dataset of 'few or no missing values' and 'many missing values' with the columns which has no missing values, I took randomly 6 columns for comparison."
   ]
  },
  {
   "cell_type": "markdown",
   "metadata": {},
   "source": [
    "### Step 1.2: Select and Re-Encode Features\n",
    "\n",
    "Checking for missing data isn't the only way in which you can prepare a dataset for analysis. Since the unsupervised learning techniques to be used will only work on data that is encoded numerically, you need to make a few encoding changes or additional assumptions to be able to make progress. In addition, while almost all of the values in the dataset are encoded using numbers, not all of them represent numeric values. Check the third column of the feature summary (`feat_info`) for a summary of types of measurement.\n",
    "- For numeric and interval data, these features can be kept without changes.\n",
    "- Most of the variables in the dataset are ordinal in nature. While ordinal values may technically be non-linear in spacing, make the simplifying assumption that the ordinal variables can be treated as being interval in nature (that is, kept without any changes).\n",
    "- Special handling may be necessary for the remaining two variable types: categorical, and 'mixed'.\n",
    "\n",
    "In the first two parts of this sub-step, you will perform an investigation of the categorical and mixed-type features and make a decision on each of them, whether you will keep, drop, or re-encode each. Then, in the last part, you will create a new data frame with only the selected and engineered columns.\n",
    "\n",
    "Data wrangling is often the trickiest part of the data analysis process, and there's a lot of it to be done here. But stick with it: once you're done with this step, you'll be ready to get to the machine learning parts of the project!"
   ]
  },
  {
   "cell_type": "code",
   "execution_count": 39,
   "metadata": {},
   "outputs": [
    {
     "data": {
      "text/html": [
       "<div>\n",
       "<style scoped>\n",
       "    .dataframe tbody tr th:only-of-type {\n",
       "        vertical-align: middle;\n",
       "    }\n",
       "\n",
       "    .dataframe tbody tr th {\n",
       "        vertical-align: top;\n",
       "    }\n",
       "\n",
       "    .dataframe thead th {\n",
       "        text-align: right;\n",
       "    }\n",
       "</style>\n",
       "<table border=\"1\" class=\"dataframe\">\n",
       "  <thead>\n",
       "    <tr style=\"text-align: right;\">\n",
       "      <th></th>\n",
       "      <th>attribute</th>\n",
       "      <th>information_level</th>\n",
       "      <th>missing_or_unknown</th>\n",
       "    </tr>\n",
       "    <tr>\n",
       "      <th>type</th>\n",
       "      <th></th>\n",
       "      <th></th>\n",
       "      <th></th>\n",
       "    </tr>\n",
       "  </thead>\n",
       "  <tbody>\n",
       "    <tr>\n",
       "      <th>categorical</th>\n",
       "      <td>18</td>\n",
       "      <td>18</td>\n",
       "      <td>18</td>\n",
       "    </tr>\n",
       "    <tr>\n",
       "      <th>mixed</th>\n",
       "      <td>6</td>\n",
       "      <td>6</td>\n",
       "      <td>6</td>\n",
       "    </tr>\n",
       "    <tr>\n",
       "      <th>numeric</th>\n",
       "      <td>6</td>\n",
       "      <td>6</td>\n",
       "      <td>6</td>\n",
       "    </tr>\n",
       "    <tr>\n",
       "      <th>ordinal</th>\n",
       "      <td>49</td>\n",
       "      <td>49</td>\n",
       "      <td>49</td>\n",
       "    </tr>\n",
       "  </tbody>\n",
       "</table>\n",
       "</div>"
      ],
      "text/plain": [
       "             attribute  information_level  missing_or_unknown\n",
       "type                                                         \n",
       "categorical         18                 18                  18\n",
       "mixed                6                  6                   6\n",
       "numeric              6                  6                   6\n",
       "ordinal             49                 49                  49"
      ]
     },
     "execution_count": 39,
     "metadata": {},
     "output_type": "execute_result"
    }
   ],
   "source": [
    "# How many features are there of each data type?\n",
    "\n",
    "feat_info_copy.groupby(by='type').count()"
   ]
  },
  {
   "cell_type": "markdown",
   "metadata": {},
   "source": [
    "#### Step 1.2.1: Re-Encode Categorical Features\n",
    "\n",
    "For categorical data, you would ordinarily need to encode the levels as dummy variables. Depending on the number of categories, perform one of the following:\n",
    "- For binary (two-level) categoricals that take numeric values, you can keep them without needing to do anything.\n",
    "- There is one binary variable that takes on non-numeric values. For this one, you need to re-encode the values as numbers or create a dummy variable.\n",
    "- For multi-level categoricals (three or more values), you can choose to encode the values using multiple dummy variables (e.g. via [OneHotEncoder](http://scikit-learn.org/stable/modules/generated/sklearn.preprocessing.OneHotEncoder.html)), or (to keep things straightforward) just drop them from the analysis. As always, document your choices in the Discussion section."
   ]
  },
  {
   "cell_type": "code",
   "execution_count": 40,
   "metadata": {},
   "outputs": [],
   "source": [
    "# Assess categorical variables: which are binary, which are multi-level, and\n",
    "# which one needs to be re-encoded?\n",
    "categorical_names=feat_info_copy[feat_info_copy.type=='categorical'].index.tolist()\n",
    "categorical_names_binary=[x for x in categorical_names if len(set(azdias_less_missing[x]))==2]\n",
    "categorical_names_multi=[x for x in categorical_names if len(set(azdias_less_missing[x]))>2]"
   ]
  },
  {
   "cell_type": "code",
   "execution_count": 41,
   "metadata": {},
   "outputs": [
    {
     "data": {
      "text/plain": [
       "['ANREDE_KZ', 'GREEN_AVANTGARDE', 'SOHO_KZ', 'OST_WEST_KZ']"
      ]
     },
     "execution_count": 41,
     "metadata": {},
     "output_type": "execute_result"
    }
   ],
   "source": [
    "categorical_names_binary"
   ]
  },
  {
   "cell_type": "code",
   "execution_count": 42,
   "metadata": {
    "scrolled": false
   },
   "outputs": [
    {
     "name": "stderr",
     "output_type": "stream",
     "text": [
      "/opt/conda/lib/python3.6/site-packages/ipykernel_launcher.py:6: SettingWithCopyWarning: \n",
      "A value is trying to be set on a copy of a slice from a DataFrame.\n",
      "Try using .loc[row_indexer,col_indexer] = value instead\n",
      "\n",
      "See the caveats in the documentation: http://pandas.pydata.org/pandas-docs/stable/indexing.html#indexing-view-versus-copy\n",
      "  \n"
     ]
    }
   ],
   "source": [
    "# Re-encode categorical variable(s) to be kept in the analysis.\n",
    " \n",
    "le = LabelEncoder() \n",
    "for i in categorical_names_binary:\n",
    "    if type(azdias_less_missing[i].values[0])==str:\n",
    "        azdias_less_missing[i]= le.fit_transform(azdias_less_missing[i])\n"
   ]
  },
  {
   "cell_type": "code",
   "execution_count": 43,
   "metadata": {},
   "outputs": [
    {
     "data": {
      "text/plain": [
       "(797426, 79)"
      ]
     },
     "execution_count": 43,
     "metadata": {},
     "output_type": "execute_result"
    }
   ],
   "source": [
    "azdias_less_missing.shape"
   ]
  },
  {
   "cell_type": "code",
   "execution_count": 44,
   "metadata": {},
   "outputs": [
    {
     "data": {
      "text/plain": [
       "['CJT_GESAMTTYP',\n",
       " 'FINANZTYP',\n",
       " 'GFK_URLAUBERTYP',\n",
       " 'LP_FAMILIE_FEIN',\n",
       " 'LP_FAMILIE_GROB',\n",
       " 'LP_STATUS_FEIN',\n",
       " 'LP_STATUS_GROB',\n",
       " 'NATIONALITAET_KZ',\n",
       " 'SHOPPER_TYP',\n",
       " 'VERS_TYP',\n",
       " 'ZABEOTYP',\n",
       " 'GEBAEUDETYP',\n",
       " 'CAMEO_DEUG_2015',\n",
       " 'CAMEO_DEU_2015']"
      ]
     },
     "execution_count": 44,
     "metadata": {},
     "output_type": "execute_result"
    }
   ],
   "source": [
    "categorical_names_multi"
   ]
  },
  {
   "cell_type": "code",
   "execution_count": 45,
   "metadata": {
    "scrolled": true
   },
   "outputs": [
    {
     "name": "stderr",
     "output_type": "stream",
     "text": [
      "/opt/conda/lib/python3.6/site-packages/pandas/core/frame.py:3697: SettingWithCopyWarning: \n",
      "A value is trying to be set on a copy of a slice from a DataFrame\n",
      "\n",
      "See the caveats in the documentation: http://pandas.pydata.org/pandas-docs/stable/indexing.html#indexing-view-versus-copy\n",
      "  errors=errors)\n"
     ]
    }
   ],
   "source": [
    "azdias_less_missing.drop(columns=categorical_names_multi,axis=1,inplace=True)"
   ]
  },
  {
   "cell_type": "markdown",
   "metadata": {},
   "source": [
    "#### Discussion 1.2.1: Re-Encode Categorical Features\n",
    "\n",
    "I re-encoded the binary categorical features: ['ANREDE_KZ', 'GREEN_AVANTGARDE', 'SOHO_KZ', 'OST_WEST_KZ']  using labelencoder and dropped the multi-level categorical features."
   ]
  },
  {
   "cell_type": "markdown",
   "metadata": {},
   "source": [
    "#### Step 1.2.2: Engineer Mixed-Type Features\n",
    "\n",
    "There are a handful of features that are marked as \"mixed\" in the feature summary that require special treatment in order to be included in the analysis. There are two in particular that deserve attention; the handling of the rest are up to your own choices:\n",
    "- \"PRAEGENDE_JUGENDJAHRE\" combines information on three dimensions: generation by decade, movement (mainstream vs. avantgarde), and nation (east vs. west). While there aren't enough levels to disentangle east from west, you should create two new variables to capture the other two dimensions: an interval-type variable for decade, and a binary variable for movement.\n",
    "- \"CAMEO_INTL_2015\" combines information on two axes: wealth and life stage. Break up the two-digit codes by their 'tens'-place and 'ones'-place digits into two new ordinal variables (which, for the purposes of this project, is equivalent to just treating them as their raw numeric values).\n",
    "- If you decide to keep or engineer new features around the other mixed-type features, make sure you note your steps in the Discussion section.\n",
    "\n",
    "Be sure to check `Data_Dictionary.md` for the details needed to finish these tasks."
   ]
  },
  {
   "cell_type": "markdown",
   "metadata": {},
   "source": [
    "## From Data_Dictionary.md\n",
    "\n",
    "\n",
    "### 1.18. PRAEGENDE_JUGENDJAHRE\n",
    "Dominating movement of person's youth (avantgarde vs. mainstream; east vs. west)\n",
    "- -1: unknown\n",
    "-  0: unknown\n",
    "-  1: 40s - war years (Mainstream, E+W)\n",
    "-  2: 40s - reconstruction years (Avantgarde, E+W)\n",
    "-  3: 50s - economic miracle (Mainstream, E+W)\n",
    "-  4: 50s - milk bar / Individualisation (Avantgarde, E+W)\n",
    "-  5: 60s - economic miracle (Mainstream, E+W)\n",
    "-  6: 60s - generation 68 / student protestors (Avantgarde, W)\n",
    "-  7: 60s - opponents to the building of the Wall (Avantgarde, E)\n",
    "-  8: 70s - family orientation (Mainstream, E+W)\n",
    "-  9: 70s - peace movement (Avantgarde, E+W)\n",
    "- 10: 80s - Generation Golf (Mainstream, W)\n",
    "- 11: 80s - ecological awareness (Avantgarde, W)\n",
    "- 12: 80s - FDJ / communist party youth organisation (Mainstream, E)\n",
    "- 13: 80s - Swords into ploughshares (Avantgarde, E)\n",
    "- 14: 90s - digital media kids (Mainstream, E+W)\n",
    "- 15: 90s - ecological awareness (Avantgarde, E+W)\n",
    "\n",
    "\n",
    "### 4.3. CAMEO_INTL_2015\n",
    "German CAMEO: Wealth / Life Stage Typology, mapped to international code\n",
    "- -1: unknown\n",
    "- 11: Wealthy Households - Pre-Family Couples & Singles\n",
    "- 12: Wealthy Households - Young Couples With Children\n",
    "- 13: Wealthy Households - Families With School Age Children\n",
    "- 14: Wealthy Households - Older Families &  Mature Couples\n",
    "- 15: Wealthy Households - Elders In Retirement\n",
    "- 21: Prosperous Households - Pre-Family Couples & Singles\n",
    "- 22: Prosperous Households - Young Couples With Children\n",
    "- 23: Prosperous Households - Families With School Age Children\n",
    "- 24: Prosperous Households - Older Families & Mature Couples\n",
    "- 25: Prosperous Households - Elders In Retirement\n",
    "- 31: Comfortable Households - Pre-Family Couples & Singles\n",
    "- 32: Comfortable Households - Young Couples With Children\n",
    "- 33: Comfortable Households - Families With School Age Children\n",
    "- 34: Comfortable Households - Older Families & Mature Couples\n",
    "- 35: Comfortable Households - Elders In Retirement\n",
    "- 41: Less Affluent Households - Pre-Family Couples & Singles\n",
    "- 42: Less Affluent Households - Young Couples With Children\n",
    "- 43: Less Affluent Households - Families With School Age Children\n",
    "- 44: Less Affluent Households - Older Families & Mature Couples\n",
    "- 45: Less Affluent Households - Elders In Retirement\n",
    "- 51: Poorer Households - Pre-Family Couples & Singles\n",
    "- 52: Poorer Households - Young Couples With Children\n",
    "- 53: Poorer Households - Families With School Age Children\n",
    "- 54: Poorer Households - Older Families & Mature Couples\n",
    "- 55: Poorer Households - Elders In Retirement\n",
    "- XX: unknown"
   ]
  },
  {
   "cell_type": "code",
   "execution_count": 46,
   "metadata": {},
   "outputs": [
    {
     "data": {
      "text/plain": [
       "attribute             PRAEGENDE_JUGENDJAHRE\n",
       "information_level                    person\n",
       "type                                  mixed\n",
       "missing_or_unknown                   [-1,0]\n",
       "Name: PRAEGENDE_JUGENDJAHRE, dtype: object"
      ]
     },
     "execution_count": 46,
     "metadata": {},
     "output_type": "execute_result"
    }
   ],
   "source": [
    "feat_info_copy.loc[\"PRAEGENDE_JUGENDJAHRE\"]"
   ]
  },
  {
   "cell_type": "code",
   "execution_count": 47,
   "metadata": {},
   "outputs": [],
   "source": [
    "# Investigate \"PRAEGENDE_JUGENDJAHRE\" and engineer two new variables.\n",
    "def interval_var(val):\n",
    "    try:\n",
    "        if val in (1,2):\n",
    "            return 1\n",
    "        if val in (3,4):\n",
    "            return 2\n",
    "        if val in (5,6,7):\n",
    "            return 3\n",
    "        if val in (8,9):\n",
    "            return 4\n",
    "        if val in (10,11,12,13):\n",
    "            return 5\n",
    "        if val in (14,15):\n",
    "            return 6\n",
    "    except ValueError:\n",
    "        return np.nan\n",
    "\n",
    "\n",
    "\n",
    "def movement(val):\n",
    "    try:\n",
    "        if val in (2,4,6,7,9,11,13,15):\n",
    "            return 0\n",
    "        if val in (1,3,5,8,10,12,14):\n",
    "            return 1\n",
    "    except ValueError:\n",
    "        return np.nan\n",
    "\n"
   ]
  },
  {
   "cell_type": "code",
   "execution_count": 48,
   "metadata": {},
   "outputs": [
    {
     "name": "stderr",
     "output_type": "stream",
     "text": [
      "/opt/conda/lib/python3.6/site-packages/ipykernel_launcher.py:1: SettingWithCopyWarning: \n",
      "A value is trying to be set on a copy of a slice from a DataFrame.\n",
      "Try using .loc[row_indexer,col_indexer] = value instead\n",
      "\n",
      "See the caveats in the documentation: http://pandas.pydata.org/pandas-docs/stable/indexing.html#indexing-view-versus-copy\n",
      "  \"\"\"Entry point for launching an IPython kernel.\n",
      "/opt/conda/lib/python3.6/site-packages/ipykernel_launcher.py:2: SettingWithCopyWarning: \n",
      "A value is trying to be set on a copy of a slice from a DataFrame.\n",
      "Try using .loc[row_indexer,col_indexer] = value instead\n",
      "\n",
      "See the caveats in the documentation: http://pandas.pydata.org/pandas-docs/stable/indexing.html#indexing-view-versus-copy\n",
      "  \n"
     ]
    }
   ],
   "source": [
    "azdias_less_missing['decade']=azdias_less_missing['PRAEGENDE_JUGENDJAHRE'].apply(interval_var)\n",
    "azdias_less_missing['movement']=azdias_less_missing['PRAEGENDE_JUGENDJAHRE'].apply(movement)"
   ]
  },
  {
   "cell_type": "code",
   "execution_count": 49,
   "metadata": {},
   "outputs": [],
   "source": [
    "# Investigate \"CAMEO_INTL_2015\" and engineer two new variables.\n",
    "def wealth(val):\n",
    "    val=float(val)\n",
    "    try:\n",
    "        if val//10==1:\n",
    "            return 1\n",
    "        if val//10==2:\n",
    "            return 2\n",
    "        if val //10==3:\n",
    "            return 3\n",
    "        if val //10==4:\n",
    "            return 4\n",
    "        if val //10==5:\n",
    "            return 5\n",
    "    except ValueError:\n",
    "        return np.nan\n",
    "    \n",
    "def lifestage(val):\n",
    "    val=float(val)\n",
    "    try:\n",
    "        if val%10==1:\n",
    "            return 1\n",
    "        if val%10==2:\n",
    "            return 2\n",
    "        if val%10==3:\n",
    "            return 3\n",
    "        if val%10==4:\n",
    "            return 4\n",
    "        if val%10==5:\n",
    "            return 5\n",
    "    except ValueError:\n",
    "        return np.nan\n",
    "    \n"
   ]
  },
  {
   "cell_type": "code",
   "execution_count": 50,
   "metadata": {
    "scrolled": false
   },
   "outputs": [
    {
     "name": "stderr",
     "output_type": "stream",
     "text": [
      "/opt/conda/lib/python3.6/site-packages/ipykernel_launcher.py:1: SettingWithCopyWarning: \n",
      "A value is trying to be set on a copy of a slice from a DataFrame.\n",
      "Try using .loc[row_indexer,col_indexer] = value instead\n",
      "\n",
      "See the caveats in the documentation: http://pandas.pydata.org/pandas-docs/stable/indexing.html#indexing-view-versus-copy\n",
      "  \"\"\"Entry point for launching an IPython kernel.\n",
      "/opt/conda/lib/python3.6/site-packages/ipykernel_launcher.py:3: SettingWithCopyWarning: \n",
      "A value is trying to be set on a copy of a slice from a DataFrame.\n",
      "Try using .loc[row_indexer,col_indexer] = value instead\n",
      "\n",
      "See the caveats in the documentation: http://pandas.pydata.org/pandas-docs/stable/indexing.html#indexing-view-versus-copy\n",
      "  This is separate from the ipykernel package so we can avoid doing imports until\n"
     ]
    }
   ],
   "source": [
    "azdias_less_missing['wealth']=azdias_less_missing['CAMEO_INTL_2015'].apply(wealth)\n",
    "\n",
    "azdias_less_missing['life_stage']=azdias_less_missing['CAMEO_INTL_2015'].apply(lifestage)"
   ]
  },
  {
   "cell_type": "code",
   "execution_count": 51,
   "metadata": {},
   "outputs": [
    {
     "name": "stdout",
     "output_type": "stream",
     "text": [
      "['LP_LEBENSPHASE_FEIN', 'LP_LEBENSPHASE_GROB', 'PRAEGENDE_JUGENDJAHRE', 'WOHNLAGE', 'CAMEO_INTL_2015', 'PLZ8_BAUMAX']\n"
     ]
    }
   ],
   "source": [
    "mixed=[x for x in feat_info_copy.index.values if feat_info_copy.loc[x].type=='mixed']\n",
    "print(mixed)"
   ]
  },
  {
   "cell_type": "markdown",
   "metadata": {},
   "source": [
    "#### Discussion 1.2.2: Engineer Mixed-Type Features\n",
    "\n",
    "\"PRAEGENDE_JUGENDJAHRE\" and \"CAMEO_INTL_2015\" are mixed type features which were required to have some special treatment to inculcate them in the subsequent analysis procedure. Therefore, as suggested we mapped the values by checking into the Data_Dictionary.md and split the two features into 4 features by using apply().\n",
    "\n",
    "I have decided to drop mixed features from further analysis process just to keep simplicity in the model."
   ]
  },
  {
   "cell_type": "markdown",
   "metadata": {},
   "source": [
    "#### Step 1.2.3: Complete Feature Selection\n",
    "\n",
    "In order to finish this step up, you need to make sure that your data frame now only has the columns that you want to keep. To summarize, the dataframe should consist of the following:\n",
    "- All numeric, interval, and ordinal type columns from the original dataset.\n",
    "- Binary categorical features (all numerically-encoded).\n",
    "- Engineered features from other multi-level categorical features and mixed features.\n",
    "\n",
    "Make sure that for any new columns that you have engineered, that you've excluded the original columns from the final dataset. Otherwise, their values will interfere with the analysis later on the project. For example, you should not keep \"PRAEGENDE_JUGENDJAHRE\", since its values won't be useful for the algorithm: only the values derived from it in the engineered features you created should be retained. As a reminder, your data should only be from **the subset with few or no missing values**."
   ]
  },
  {
   "cell_type": "code",
   "execution_count": 52,
   "metadata": {},
   "outputs": [],
   "source": [
    "# If there are other re-engineering tasks you need to perform, make sure you\n",
    "# take care of them here. (Dealing with missing data will come in step 2.1.)\n",
    "\n",
    "mixed_cols=[x for x in feat_info_copy.index.values if feat_info_copy.loc[x].type=='mixed']\n"
   ]
  },
  {
   "cell_type": "code",
   "execution_count": 53,
   "metadata": {},
   "outputs": [
    {
     "name": "stderr",
     "output_type": "stream",
     "text": [
      "/opt/conda/lib/python3.6/site-packages/pandas/core/frame.py:3697: SettingWithCopyWarning: \n",
      "A value is trying to be set on a copy of a slice from a DataFrame\n",
      "\n",
      "See the caveats in the documentation: http://pandas.pydata.org/pandas-docs/stable/indexing.html#indexing-view-versus-copy\n",
      "  errors=errors)\n"
     ]
    }
   ],
   "source": [
    "# Do whatever you need to in order to ensure that the dataframe only contains\n",
    "# the columns that should be passed to the algorithm functions.\n",
    "\n",
    "azdias_less_missing.drop(columns=mixed_cols,axis=1,inplace=True)"
   ]
  },
  {
   "cell_type": "code",
   "execution_count": 54,
   "metadata": {},
   "outputs": [],
   "source": [
    "azdias_updated=azdias_less_missing.copy()"
   ]
  },
  {
   "cell_type": "code",
   "execution_count": 55,
   "metadata": {},
   "outputs": [
    {
     "data": {
      "text/html": [
       "<div>\n",
       "<style scoped>\n",
       "    .dataframe tbody tr th:only-of-type {\n",
       "        vertical-align: middle;\n",
       "    }\n",
       "\n",
       "    .dataframe tbody tr th {\n",
       "        vertical-align: top;\n",
       "    }\n",
       "\n",
       "    .dataframe thead th {\n",
       "        text-align: right;\n",
       "    }\n",
       "</style>\n",
       "<table border=\"1\" class=\"dataframe\">\n",
       "  <thead>\n",
       "    <tr style=\"text-align: right;\">\n",
       "      <th></th>\n",
       "      <th>ALTERSKATEGORIE_GROB</th>\n",
       "      <th>ANREDE_KZ</th>\n",
       "      <th>FINANZ_MINIMALIST</th>\n",
       "      <th>FINANZ_SPARER</th>\n",
       "      <th>FINANZ_VORSORGER</th>\n",
       "      <th>FINANZ_ANLEGER</th>\n",
       "      <th>FINANZ_UNAUFFAELLIGER</th>\n",
       "      <th>FINANZ_HAUSBAUER</th>\n",
       "      <th>GREEN_AVANTGARDE</th>\n",
       "      <th>HEALTH_TYP</th>\n",
       "      <th>...</th>\n",
       "      <th>PLZ8_ANTG4</th>\n",
       "      <th>PLZ8_HHZ</th>\n",
       "      <th>PLZ8_GBZ</th>\n",
       "      <th>ARBEIT</th>\n",
       "      <th>ORTSGR_KLS9</th>\n",
       "      <th>RELAT_AB</th>\n",
       "      <th>decade</th>\n",
       "      <th>movement</th>\n",
       "      <th>wealth</th>\n",
       "      <th>life_stage</th>\n",
       "    </tr>\n",
       "  </thead>\n",
       "  <tbody>\n",
       "    <tr>\n",
       "      <th>1</th>\n",
       "      <td>1.0</td>\n",
       "      <td>2</td>\n",
       "      <td>1</td>\n",
       "      <td>5</td>\n",
       "      <td>2</td>\n",
       "      <td>5</td>\n",
       "      <td>4</td>\n",
       "      <td>5</td>\n",
       "      <td>0</td>\n",
       "      <td>3.0</td>\n",
       "      <td>...</td>\n",
       "      <td>1.0</td>\n",
       "      <td>5.0</td>\n",
       "      <td>4.0</td>\n",
       "      <td>3.0</td>\n",
       "      <td>5.0</td>\n",
       "      <td>4.0</td>\n",
       "      <td>6.0</td>\n",
       "      <td>1.0</td>\n",
       "      <td>5.0</td>\n",
       "      <td>1.0</td>\n",
       "    </tr>\n",
       "    <tr>\n",
       "      <th>2</th>\n",
       "      <td>3.0</td>\n",
       "      <td>2</td>\n",
       "      <td>1</td>\n",
       "      <td>4</td>\n",
       "      <td>1</td>\n",
       "      <td>2</td>\n",
       "      <td>3</td>\n",
       "      <td>5</td>\n",
       "      <td>1</td>\n",
       "      <td>3.0</td>\n",
       "      <td>...</td>\n",
       "      <td>0.0</td>\n",
       "      <td>4.0</td>\n",
       "      <td>4.0</td>\n",
       "      <td>3.0</td>\n",
       "      <td>5.0</td>\n",
       "      <td>2.0</td>\n",
       "      <td>6.0</td>\n",
       "      <td>0.0</td>\n",
       "      <td>2.0</td>\n",
       "      <td>4.0</td>\n",
       "    </tr>\n",
       "    <tr>\n",
       "      <th>3</th>\n",
       "      <td>4.0</td>\n",
       "      <td>2</td>\n",
       "      <td>4</td>\n",
       "      <td>2</td>\n",
       "      <td>5</td>\n",
       "      <td>2</td>\n",
       "      <td>1</td>\n",
       "      <td>2</td>\n",
       "      <td>0</td>\n",
       "      <td>2.0</td>\n",
       "      <td>...</td>\n",
       "      <td>0.0</td>\n",
       "      <td>3.0</td>\n",
       "      <td>4.0</td>\n",
       "      <td>2.0</td>\n",
       "      <td>3.0</td>\n",
       "      <td>3.0</td>\n",
       "      <td>4.0</td>\n",
       "      <td>1.0</td>\n",
       "      <td>1.0</td>\n",
       "      <td>2.0</td>\n",
       "    </tr>\n",
       "    <tr>\n",
       "      <th>4</th>\n",
       "      <td>3.0</td>\n",
       "      <td>1</td>\n",
       "      <td>4</td>\n",
       "      <td>3</td>\n",
       "      <td>4</td>\n",
       "      <td>1</td>\n",
       "      <td>3</td>\n",
       "      <td>2</td>\n",
       "      <td>0</td>\n",
       "      <td>3.0</td>\n",
       "      <td>...</td>\n",
       "      <td>1.0</td>\n",
       "      <td>3.0</td>\n",
       "      <td>3.0</td>\n",
       "      <td>4.0</td>\n",
       "      <td>6.0</td>\n",
       "      <td>5.0</td>\n",
       "      <td>4.0</td>\n",
       "      <td>1.0</td>\n",
       "      <td>4.0</td>\n",
       "      <td>3.0</td>\n",
       "    </tr>\n",
       "    <tr>\n",
       "      <th>5</th>\n",
       "      <td>1.0</td>\n",
       "      <td>2</td>\n",
       "      <td>3</td>\n",
       "      <td>1</td>\n",
       "      <td>5</td>\n",
       "      <td>2</td>\n",
       "      <td>2</td>\n",
       "      <td>5</td>\n",
       "      <td>0</td>\n",
       "      <td>3.0</td>\n",
       "      <td>...</td>\n",
       "      <td>1.0</td>\n",
       "      <td>5.0</td>\n",
       "      <td>5.0</td>\n",
       "      <td>2.0</td>\n",
       "      <td>3.0</td>\n",
       "      <td>3.0</td>\n",
       "      <td>2.0</td>\n",
       "      <td>1.0</td>\n",
       "      <td>5.0</td>\n",
       "      <td>4.0</td>\n",
       "    </tr>\n",
       "  </tbody>\n",
       "</table>\n",
       "<p>5 rows × 63 columns</p>\n",
       "</div>"
      ],
      "text/plain": [
       "   ALTERSKATEGORIE_GROB  ANREDE_KZ  FINANZ_MINIMALIST  FINANZ_SPARER  \\\n",
       "1                   1.0          2                  1              5   \n",
       "2                   3.0          2                  1              4   \n",
       "3                   4.0          2                  4              2   \n",
       "4                   3.0          1                  4              3   \n",
       "5                   1.0          2                  3              1   \n",
       "\n",
       "   FINANZ_VORSORGER  FINANZ_ANLEGER  FINANZ_UNAUFFAELLIGER  FINANZ_HAUSBAUER  \\\n",
       "1                 2               5                      4                 5   \n",
       "2                 1               2                      3                 5   \n",
       "3                 5               2                      1                 2   \n",
       "4                 4               1                      3                 2   \n",
       "5                 5               2                      2                 5   \n",
       "\n",
       "   GREEN_AVANTGARDE  HEALTH_TYP     ...      PLZ8_ANTG4  PLZ8_HHZ  PLZ8_GBZ  \\\n",
       "1                 0         3.0     ...             1.0       5.0       4.0   \n",
       "2                 1         3.0     ...             0.0       4.0       4.0   \n",
       "3                 0         2.0     ...             0.0       3.0       4.0   \n",
       "4                 0         3.0     ...             1.0       3.0       3.0   \n",
       "5                 0         3.0     ...             1.0       5.0       5.0   \n",
       "\n",
       "   ARBEIT  ORTSGR_KLS9  RELAT_AB  decade  movement  wealth  life_stage  \n",
       "1     3.0          5.0       4.0     6.0       1.0     5.0         1.0  \n",
       "2     3.0          5.0       2.0     6.0       0.0     2.0         4.0  \n",
       "3     2.0          3.0       3.0     4.0       1.0     1.0         2.0  \n",
       "4     4.0          6.0       5.0     4.0       1.0     4.0         3.0  \n",
       "5     2.0          3.0       3.0     2.0       1.0     5.0         4.0  \n",
       "\n",
       "[5 rows x 63 columns]"
      ]
     },
     "execution_count": 55,
     "metadata": {},
     "output_type": "execute_result"
    }
   ],
   "source": [
    "azdias_updated.head()"
   ]
  },
  {
   "cell_type": "markdown",
   "metadata": {},
   "source": [
    "### Step 1.3: Create a Cleaning Function\n",
    "\n",
    "Even though you've finished cleaning up the general population demographics data, it's important to look ahead to the future and realize that you'll need to perform the same cleaning steps on the customer demographics data. In this substep, complete the function below to execute the main feature selection, encoding, and re-engineering steps you performed above. Then, when it comes to looking at the customer data in Step 3, you can just run this function on that DataFrame to get the trimmed dataset in a single step."
   ]
  },
  {
   "cell_type": "code",
   "execution_count": 56,
   "metadata": {},
   "outputs": [],
   "source": [
    "def clean_data(df):\n",
    "    \"\"\"\n",
    "    Perform feature trimming, re-encoding, and engineering for demographics\n",
    "    data\n",
    "    \n",
    "    INPUT: Demographics DataFrame\n",
    "    OUTPUT: Trimmed and cleaned demographics DataFrame\n",
    "    \"\"\"\n",
    "    \n",
    "    # Put in code here to execute all main cleaning steps:\n",
    "    # convert missing value codes into NaNs, ...\n",
    "    feat_info_copy=feat_info.copy()\n",
    "    \n",
    "    for idx in range(len(feat_info_copy)):\n",
    "        M_O_U=feat_info_copy.iloc[idx].missing_or_unknown.strip(\"[]\").split(',')\n",
    "        M_O_U=[int(elem) if (elem!='XX' and elem!='X' and elem!='') else elem for elem in M_O_U]\n",
    "        if M_O_U!=['']:\n",
    "            df=df.replace({feat_info_copy.iloc[idx]['attribute']:M_O_U},np.nan) \n",
    "    \n",
    "    # remove selected columns and rows, ...\n",
    "    ###dropping columns \n",
    "    drop_cols_name=['AGER_TYP', 'GEBURTSJAHR', 'TITEL_KZ', 'ALTER_HH', 'KK_KUNDENTYP', 'KBA05_BAUMAX']\n",
    "    df.drop(columns=drop_cols_name,inplace=True)\n",
    "    \n",
    "    \n",
    "    feat_info_copy.set_index('attribute',drop=False,inplace=True)\n",
    "    feat_info_copy.drop(drop_cols_name,inplace=True)\n",
    "    \n",
    "    ###dropping rows\n",
    "    df_less_missing=df[df.isna().sum(axis=1)<=20]\n",
    "    \n",
    "    # select, re-encode, and engineer column values.\n",
    "    categorical_names=feat_info_copy[feat_info_copy.type=='categorical'].index.tolist()\n",
    "    categorical_names_binary=[x for x in categorical_names if len(set(df_less_missing[x]))==2]\n",
    "    categorical_names_multi=[x for x in categorical_names if len(set(df_less_missing[x]))>2] \n",
    "    \n",
    "    le = LabelEncoder() \n",
    "    for i in categorical_names_binary:\n",
    "        if type(df_less_missing[i].values[0])==str:\n",
    "            df_less_missing[i]= le.fit_transform(df_less_missing[i])\n",
    "\n",
    "    df_less_missing.drop(columns=categorical_names_multi,axis=1,inplace=True)\n",
    "\n",
    "    df_less_missing['decade']=df_less_missing['PRAEGENDE_JUGENDJAHRE'].apply(interval_var)\n",
    "    df_less_missing['movement']=df_less_missing['PRAEGENDE_JUGENDJAHRE'].apply(movement)\n",
    "    df_less_missing['wealth']=df_less_missing['CAMEO_INTL_2015'].apply(wealth)\n",
    "    df_less_missing['life_stage']=df_less_missing['CAMEO_INTL_2015'].apply(lifestage)\n",
    "\n",
    "    mixed_cols=[x for x in feat_info_copy.index.values if feat_info_copy.loc[x].type=='mixed']\n",
    "    df_less_missing.drop(columns=mixed_cols,axis=1,inplace=True)\n",
    "    df_cleaned=df_less_missing.copy()\n",
    "    # Return the cleaned dataframe.\n",
    "    return df_cleaned\n",
    "    \n",
    "    "
   ]
  },
  {
   "cell_type": "markdown",
   "metadata": {},
   "source": [
    "## Step 2: Feature Transformation\n",
    "\n",
    "### Step 2.1: Apply Feature Scaling\n",
    "\n",
    "Before we apply dimensionality reduction techniques to the data, we need to perform feature scaling so that the principal component vectors are not influenced by the natural differences in scale for features. Starting from this part of the project, you'll want to keep an eye on the [API reference page for sklearn](http://scikit-learn.org/stable/modules/classes.html) to help you navigate to all of the classes and functions that you'll need. In this substep, you'll need to check the following:\n",
    "\n",
    "- sklearn requires that data not have missing values in order for its estimators to work properly. So, before applying the scaler to your data, make sure that you've cleaned the DataFrame of the remaining missing values. This can be as simple as just removing all data points with missing data, or applying an [Imputer](http://scikit-learn.org/stable/modules/generated/sklearn.preprocessing.Imputer.html) to replace all missing values. You might also try a more complicated procedure where you temporarily remove missing values in order to compute the scaling parameters before re-introducing those missing values and applying imputation. Think about how much missing data you have and what possible effects each approach might have on your analysis, and justify your decision in the discussion section below.\n",
    "- For the actual scaling function, a [StandardScaler](http://scikit-learn.org/stable/modules/generated/sklearn.preprocessing.StandardScaler.html) instance is suggested, scaling each feature to mean 0 and standard deviation 1.\n",
    "- For these classes, you can make use of the `.fit_transform()` method to both fit a procedure to the data as well as apply the transformation to the data at the same time. Don't forget to keep the fit sklearn objects handy, since you'll be applying them to the customer demographics data towards the end of the project."
   ]
  },
  {
   "cell_type": "code",
   "execution_count": 57,
   "metadata": {},
   "outputs": [
    {
     "data": {
      "text/plain": [
       "(797426, 63)"
      ]
     },
     "execution_count": 57,
     "metadata": {},
     "output_type": "execute_result"
    }
   ],
   "source": [
    "azdias_updated.shape"
   ]
  },
  {
   "cell_type": "code",
   "execution_count": 58,
   "metadata": {},
   "outputs": [
    {
     "data": {
      "text/plain": [
       "715462"
      ]
     },
     "execution_count": 58,
     "metadata": {},
     "output_type": "execute_result"
    }
   ],
   "source": [
    "azdias_updated.isnull().sum().sum()"
   ]
  },
  {
   "cell_type": "code",
   "execution_count": 59,
   "metadata": {},
   "outputs": [
    {
     "data": {
      "text/plain": [
       "(797426, 63)"
      ]
     },
     "execution_count": 59,
     "metadata": {},
     "output_type": "execute_result"
    }
   ],
   "source": [
    "# If you've not yet cleaned the dataset of all NaN values, then investigate and\n",
    "# do that now.\n",
    "impute=Imputer(strategy='most_frequent')\n",
    "azdias_updated_nan=pd.DataFrame(impute.fit_transform(azdias_updated))\n",
    "\n",
    "azdias_updated_nan.shape"
   ]
  },
  {
   "cell_type": "code",
   "execution_count": 60,
   "metadata": {},
   "outputs": [
    {
     "data": {
      "text/plain": [
       "0"
      ]
     },
     "execution_count": 60,
     "metadata": {},
     "output_type": "execute_result"
    }
   ],
   "source": [
    "azdias_updated_nan.isnull().sum().sum()"
   ]
  },
  {
   "cell_type": "code",
   "execution_count": 61,
   "metadata": {},
   "outputs": [
    {
     "data": {
      "text/plain": [
       "pandas.core.indexes.numeric.Int64Index"
      ]
     },
     "execution_count": 61,
     "metadata": {},
     "output_type": "execute_result"
    }
   ],
   "source": [
    "type(azdias_updated.index)"
   ]
  },
  {
   "cell_type": "code",
   "execution_count": 62,
   "metadata": {},
   "outputs": [
    {
     "data": {
      "text/plain": [
       "pandas.core.indexes.range.RangeIndex"
      ]
     },
     "execution_count": 62,
     "metadata": {},
     "output_type": "execute_result"
    }
   ],
   "source": [
    "type(azdias_updated_nan.index)"
   ]
  },
  {
   "cell_type": "code",
   "execution_count": 63,
   "metadata": {},
   "outputs": [],
   "source": [
    "azdias_updated_nan.index=azdias_updated.index\n",
    "azdias_updated_nan.columns=azdias_updated.columns"
   ]
  },
  {
   "cell_type": "code",
   "execution_count": 64,
   "metadata": {},
   "outputs": [
    {
     "data": {
      "text/html": [
       "<div>\n",
       "<style scoped>\n",
       "    .dataframe tbody tr th:only-of-type {\n",
       "        vertical-align: middle;\n",
       "    }\n",
       "\n",
       "    .dataframe tbody tr th {\n",
       "        vertical-align: top;\n",
       "    }\n",
       "\n",
       "    .dataframe thead th {\n",
       "        text-align: right;\n",
       "    }\n",
       "</style>\n",
       "<table border=\"1\" class=\"dataframe\">\n",
       "  <thead>\n",
       "    <tr style=\"text-align: right;\">\n",
       "      <th></th>\n",
       "      <th>ALTERSKATEGORIE_GROB</th>\n",
       "      <th>ANREDE_KZ</th>\n",
       "      <th>FINANZ_MINIMALIST</th>\n",
       "      <th>FINANZ_SPARER</th>\n",
       "      <th>FINANZ_VORSORGER</th>\n",
       "      <th>FINANZ_ANLEGER</th>\n",
       "      <th>FINANZ_UNAUFFAELLIGER</th>\n",
       "      <th>FINANZ_HAUSBAUER</th>\n",
       "      <th>GREEN_AVANTGARDE</th>\n",
       "      <th>HEALTH_TYP</th>\n",
       "      <th>...</th>\n",
       "      <th>PLZ8_ANTG4</th>\n",
       "      <th>PLZ8_HHZ</th>\n",
       "      <th>PLZ8_GBZ</th>\n",
       "      <th>ARBEIT</th>\n",
       "      <th>ORTSGR_KLS9</th>\n",
       "      <th>RELAT_AB</th>\n",
       "      <th>decade</th>\n",
       "      <th>movement</th>\n",
       "      <th>wealth</th>\n",
       "      <th>life_stage</th>\n",
       "    </tr>\n",
       "  </thead>\n",
       "  <tbody>\n",
       "    <tr>\n",
       "      <th>1</th>\n",
       "      <td>1.0</td>\n",
       "      <td>2.0</td>\n",
       "      <td>1.0</td>\n",
       "      <td>5.0</td>\n",
       "      <td>2.0</td>\n",
       "      <td>5.0</td>\n",
       "      <td>4.0</td>\n",
       "      <td>5.0</td>\n",
       "      <td>0.0</td>\n",
       "      <td>3.0</td>\n",
       "      <td>...</td>\n",
       "      <td>1.0</td>\n",
       "      <td>5.0</td>\n",
       "      <td>4.0</td>\n",
       "      <td>3.0</td>\n",
       "      <td>5.0</td>\n",
       "      <td>4.0</td>\n",
       "      <td>6.0</td>\n",
       "      <td>1.0</td>\n",
       "      <td>5.0</td>\n",
       "      <td>1.0</td>\n",
       "    </tr>\n",
       "    <tr>\n",
       "      <th>2</th>\n",
       "      <td>3.0</td>\n",
       "      <td>2.0</td>\n",
       "      <td>1.0</td>\n",
       "      <td>4.0</td>\n",
       "      <td>1.0</td>\n",
       "      <td>2.0</td>\n",
       "      <td>3.0</td>\n",
       "      <td>5.0</td>\n",
       "      <td>1.0</td>\n",
       "      <td>3.0</td>\n",
       "      <td>...</td>\n",
       "      <td>0.0</td>\n",
       "      <td>4.0</td>\n",
       "      <td>4.0</td>\n",
       "      <td>3.0</td>\n",
       "      <td>5.0</td>\n",
       "      <td>2.0</td>\n",
       "      <td>6.0</td>\n",
       "      <td>0.0</td>\n",
       "      <td>2.0</td>\n",
       "      <td>4.0</td>\n",
       "    </tr>\n",
       "    <tr>\n",
       "      <th>3</th>\n",
       "      <td>4.0</td>\n",
       "      <td>2.0</td>\n",
       "      <td>4.0</td>\n",
       "      <td>2.0</td>\n",
       "      <td>5.0</td>\n",
       "      <td>2.0</td>\n",
       "      <td>1.0</td>\n",
       "      <td>2.0</td>\n",
       "      <td>0.0</td>\n",
       "      <td>2.0</td>\n",
       "      <td>...</td>\n",
       "      <td>0.0</td>\n",
       "      <td>3.0</td>\n",
       "      <td>4.0</td>\n",
       "      <td>2.0</td>\n",
       "      <td>3.0</td>\n",
       "      <td>3.0</td>\n",
       "      <td>4.0</td>\n",
       "      <td>1.0</td>\n",
       "      <td>1.0</td>\n",
       "      <td>2.0</td>\n",
       "    </tr>\n",
       "    <tr>\n",
       "      <th>4</th>\n",
       "      <td>3.0</td>\n",
       "      <td>1.0</td>\n",
       "      <td>4.0</td>\n",
       "      <td>3.0</td>\n",
       "      <td>4.0</td>\n",
       "      <td>1.0</td>\n",
       "      <td>3.0</td>\n",
       "      <td>2.0</td>\n",
       "      <td>0.0</td>\n",
       "      <td>3.0</td>\n",
       "      <td>...</td>\n",
       "      <td>1.0</td>\n",
       "      <td>3.0</td>\n",
       "      <td>3.0</td>\n",
       "      <td>4.0</td>\n",
       "      <td>6.0</td>\n",
       "      <td>5.0</td>\n",
       "      <td>4.0</td>\n",
       "      <td>1.0</td>\n",
       "      <td>4.0</td>\n",
       "      <td>3.0</td>\n",
       "    </tr>\n",
       "    <tr>\n",
       "      <th>5</th>\n",
       "      <td>1.0</td>\n",
       "      <td>2.0</td>\n",
       "      <td>3.0</td>\n",
       "      <td>1.0</td>\n",
       "      <td>5.0</td>\n",
       "      <td>2.0</td>\n",
       "      <td>2.0</td>\n",
       "      <td>5.0</td>\n",
       "      <td>0.0</td>\n",
       "      <td>3.0</td>\n",
       "      <td>...</td>\n",
       "      <td>1.0</td>\n",
       "      <td>5.0</td>\n",
       "      <td>5.0</td>\n",
       "      <td>2.0</td>\n",
       "      <td>3.0</td>\n",
       "      <td>3.0</td>\n",
       "      <td>2.0</td>\n",
       "      <td>1.0</td>\n",
       "      <td>5.0</td>\n",
       "      <td>4.0</td>\n",
       "    </tr>\n",
       "  </tbody>\n",
       "</table>\n",
       "<p>5 rows × 63 columns</p>\n",
       "</div>"
      ],
      "text/plain": [
       "   ALTERSKATEGORIE_GROB  ANREDE_KZ  FINANZ_MINIMALIST  FINANZ_SPARER  \\\n",
       "1                   1.0        2.0                1.0            5.0   \n",
       "2                   3.0        2.0                1.0            4.0   \n",
       "3                   4.0        2.0                4.0            2.0   \n",
       "4                   3.0        1.0                4.0            3.0   \n",
       "5                   1.0        2.0                3.0            1.0   \n",
       "\n",
       "   FINANZ_VORSORGER  FINANZ_ANLEGER  FINANZ_UNAUFFAELLIGER  FINANZ_HAUSBAUER  \\\n",
       "1               2.0             5.0                    4.0               5.0   \n",
       "2               1.0             2.0                    3.0               5.0   \n",
       "3               5.0             2.0                    1.0               2.0   \n",
       "4               4.0             1.0                    3.0               2.0   \n",
       "5               5.0             2.0                    2.0               5.0   \n",
       "\n",
       "   GREEN_AVANTGARDE  HEALTH_TYP     ...      PLZ8_ANTG4  PLZ8_HHZ  PLZ8_GBZ  \\\n",
       "1               0.0         3.0     ...             1.0       5.0       4.0   \n",
       "2               1.0         3.0     ...             0.0       4.0       4.0   \n",
       "3               0.0         2.0     ...             0.0       3.0       4.0   \n",
       "4               0.0         3.0     ...             1.0       3.0       3.0   \n",
       "5               0.0         3.0     ...             1.0       5.0       5.0   \n",
       "\n",
       "   ARBEIT  ORTSGR_KLS9  RELAT_AB  decade  movement  wealth  life_stage  \n",
       "1     3.0          5.0       4.0     6.0       1.0     5.0         1.0  \n",
       "2     3.0          5.0       2.0     6.0       0.0     2.0         4.0  \n",
       "3     2.0          3.0       3.0     4.0       1.0     1.0         2.0  \n",
       "4     4.0          6.0       5.0     4.0       1.0     4.0         3.0  \n",
       "5     2.0          3.0       3.0     2.0       1.0     5.0         4.0  \n",
       "\n",
       "[5 rows x 63 columns]"
      ]
     },
     "execution_count": 64,
     "metadata": {},
     "output_type": "execute_result"
    }
   ],
   "source": [
    "azdias_updated_nan.head()"
   ]
  },
  {
   "cell_type": "code",
   "execution_count": 65,
   "metadata": {},
   "outputs": [],
   "source": [
    "# Apply feature scaling to the general population demographics data.\n",
    "\n",
    "scale=StandardScaler()\n",
    "azdias_updated_scaled=pd.DataFrame(data=scale.fit_transform(azdias_updated_nan),columns=azdias_updated_nan.columns.tolist())"
   ]
  },
  {
   "cell_type": "code",
   "execution_count": 66,
   "metadata": {
    "scrolled": true
   },
   "outputs": [
    {
     "data": {
      "text/html": [
       "<div>\n",
       "<style scoped>\n",
       "    .dataframe tbody tr th:only-of-type {\n",
       "        vertical-align: middle;\n",
       "    }\n",
       "\n",
       "    .dataframe tbody tr th {\n",
       "        vertical-align: top;\n",
       "    }\n",
       "\n",
       "    .dataframe thead th {\n",
       "        text-align: right;\n",
       "    }\n",
       "</style>\n",
       "<table border=\"1\" class=\"dataframe\">\n",
       "  <thead>\n",
       "    <tr style=\"text-align: right;\">\n",
       "      <th></th>\n",
       "      <th>ALTERSKATEGORIE_GROB</th>\n",
       "      <th>ANREDE_KZ</th>\n",
       "      <th>FINANZ_MINIMALIST</th>\n",
       "      <th>FINANZ_SPARER</th>\n",
       "      <th>FINANZ_VORSORGER</th>\n",
       "      <th>FINANZ_ANLEGER</th>\n",
       "      <th>FINANZ_UNAUFFAELLIGER</th>\n",
       "      <th>FINANZ_HAUSBAUER</th>\n",
       "      <th>GREEN_AVANTGARDE</th>\n",
       "      <th>HEALTH_TYP</th>\n",
       "      <th>...</th>\n",
       "      <th>PLZ8_ANTG4</th>\n",
       "      <th>PLZ8_HHZ</th>\n",
       "      <th>PLZ8_GBZ</th>\n",
       "      <th>ARBEIT</th>\n",
       "      <th>ORTSGR_KLS9</th>\n",
       "      <th>RELAT_AB</th>\n",
       "      <th>decade</th>\n",
       "      <th>movement</th>\n",
       "      <th>wealth</th>\n",
       "      <th>life_stage</th>\n",
       "    </tr>\n",
       "  </thead>\n",
       "  <tbody>\n",
       "    <tr>\n",
       "      <th>0</th>\n",
       "      <td>-1.766334</td>\n",
       "      <td>0.958071</td>\n",
       "      <td>-1.494609</td>\n",
       "      <td>1.538200</td>\n",
       "      <td>-1.040726</td>\n",
       "      <td>1.466448</td>\n",
       "      <td>0.959677</td>\n",
       "      <td>1.338816</td>\n",
       "      <td>-0.530567</td>\n",
       "      <td>1.010368</td>\n",
       "      <td>...</td>\n",
       "      <td>0.441766</td>\n",
       "      <td>1.455006</td>\n",
       "      <td>0.573846</td>\n",
       "      <td>-0.171603</td>\n",
       "      <td>-0.127145</td>\n",
       "      <td>0.684744</td>\n",
       "      <td>1.098531</td>\n",
       "      <td>0.530567</td>\n",
       "      <td>1.175734</td>\n",
       "      <td>-1.249157</td>\n",
       "    </tr>\n",
       "    <tr>\n",
       "      <th>1</th>\n",
       "      <td>0.200589</td>\n",
       "      <td>0.958071</td>\n",
       "      <td>-1.494609</td>\n",
       "      <td>0.864824</td>\n",
       "      <td>-1.766955</td>\n",
       "      <td>-0.570799</td>\n",
       "      <td>0.244962</td>\n",
       "      <td>1.338816</td>\n",
       "      <td>1.884775</td>\n",
       "      <td>1.010368</td>\n",
       "      <td>...</td>\n",
       "      <td>-0.935489</td>\n",
       "      <td>0.419154</td>\n",
       "      <td>0.573846</td>\n",
       "      <td>-0.171603</td>\n",
       "      <td>-0.127145</td>\n",
       "      <td>-0.789154</td>\n",
       "      <td>1.098531</td>\n",
       "      <td>-1.884775</td>\n",
       "      <td>-0.869674</td>\n",
       "      <td>0.766845</td>\n",
       "    </tr>\n",
       "    <tr>\n",
       "      <th>2</th>\n",
       "      <td>1.184051</td>\n",
       "      <td>0.958071</td>\n",
       "      <td>0.683150</td>\n",
       "      <td>-0.481928</td>\n",
       "      <td>1.137960</td>\n",
       "      <td>-0.570799</td>\n",
       "      <td>-1.184467</td>\n",
       "      <td>-0.792034</td>\n",
       "      <td>-0.530567</td>\n",
       "      <td>-0.311674</td>\n",
       "      <td>...</td>\n",
       "      <td>-0.935489</td>\n",
       "      <td>-0.616697</td>\n",
       "      <td>0.573846</td>\n",
       "      <td>-1.173369</td>\n",
       "      <td>-0.997689</td>\n",
       "      <td>-0.052205</td>\n",
       "      <td>-0.267356</td>\n",
       "      <td>0.530567</td>\n",
       "      <td>-1.551476</td>\n",
       "      <td>-0.577156</td>\n",
       "    </tr>\n",
       "    <tr>\n",
       "      <th>3</th>\n",
       "      <td>0.200589</td>\n",
       "      <td>-1.043765</td>\n",
       "      <td>0.683150</td>\n",
       "      <td>0.191448</td>\n",
       "      <td>0.411731</td>\n",
       "      <td>-1.249881</td>\n",
       "      <td>0.244962</td>\n",
       "      <td>-0.792034</td>\n",
       "      <td>-0.530567</td>\n",
       "      <td>1.010368</td>\n",
       "      <td>...</td>\n",
       "      <td>0.441766</td>\n",
       "      <td>-0.616697</td>\n",
       "      <td>-0.337337</td>\n",
       "      <td>0.830164</td>\n",
       "      <td>0.308127</td>\n",
       "      <td>1.421694</td>\n",
       "      <td>-0.267356</td>\n",
       "      <td>0.530567</td>\n",
       "      <td>0.493932</td>\n",
       "      <td>0.094845</td>\n",
       "    </tr>\n",
       "    <tr>\n",
       "      <th>4</th>\n",
       "      <td>-1.766334</td>\n",
       "      <td>0.958071</td>\n",
       "      <td>-0.042770</td>\n",
       "      <td>-1.155304</td>\n",
       "      <td>1.137960</td>\n",
       "      <td>-0.570799</td>\n",
       "      <td>-0.469752</td>\n",
       "      <td>1.338816</td>\n",
       "      <td>-0.530567</td>\n",
       "      <td>1.010368</td>\n",
       "      <td>...</td>\n",
       "      <td>0.441766</td>\n",
       "      <td>1.455006</td>\n",
       "      <td>1.485029</td>\n",
       "      <td>-1.173369</td>\n",
       "      <td>-0.997689</td>\n",
       "      <td>-0.052205</td>\n",
       "      <td>-1.633243</td>\n",
       "      <td>0.530567</td>\n",
       "      <td>1.175734</td>\n",
       "      <td>0.766845</td>\n",
       "    </tr>\n",
       "  </tbody>\n",
       "</table>\n",
       "<p>5 rows × 63 columns</p>\n",
       "</div>"
      ],
      "text/plain": [
       "   ALTERSKATEGORIE_GROB  ANREDE_KZ  FINANZ_MINIMALIST  FINANZ_SPARER  \\\n",
       "0             -1.766334   0.958071          -1.494609       1.538200   \n",
       "1              0.200589   0.958071          -1.494609       0.864824   \n",
       "2              1.184051   0.958071           0.683150      -0.481928   \n",
       "3              0.200589  -1.043765           0.683150       0.191448   \n",
       "4             -1.766334   0.958071          -0.042770      -1.155304   \n",
       "\n",
       "   FINANZ_VORSORGER  FINANZ_ANLEGER  FINANZ_UNAUFFAELLIGER  FINANZ_HAUSBAUER  \\\n",
       "0         -1.040726        1.466448               0.959677          1.338816   \n",
       "1         -1.766955       -0.570799               0.244962          1.338816   \n",
       "2          1.137960       -0.570799              -1.184467         -0.792034   \n",
       "3          0.411731       -1.249881               0.244962         -0.792034   \n",
       "4          1.137960       -0.570799              -0.469752          1.338816   \n",
       "\n",
       "   GREEN_AVANTGARDE  HEALTH_TYP     ...      PLZ8_ANTG4  PLZ8_HHZ  PLZ8_GBZ  \\\n",
       "0         -0.530567    1.010368     ...        0.441766  1.455006  0.573846   \n",
       "1          1.884775    1.010368     ...       -0.935489  0.419154  0.573846   \n",
       "2         -0.530567   -0.311674     ...       -0.935489 -0.616697  0.573846   \n",
       "3         -0.530567    1.010368     ...        0.441766 -0.616697 -0.337337   \n",
       "4         -0.530567    1.010368     ...        0.441766  1.455006  1.485029   \n",
       "\n",
       "     ARBEIT  ORTSGR_KLS9  RELAT_AB    decade  movement    wealth  life_stage  \n",
       "0 -0.171603    -0.127145  0.684744  1.098531  0.530567  1.175734   -1.249157  \n",
       "1 -0.171603    -0.127145 -0.789154  1.098531 -1.884775 -0.869674    0.766845  \n",
       "2 -1.173369    -0.997689 -0.052205 -0.267356  0.530567 -1.551476   -0.577156  \n",
       "3  0.830164     0.308127  1.421694 -0.267356  0.530567  0.493932    0.094845  \n",
       "4 -1.173369    -0.997689 -0.052205 -1.633243  0.530567  1.175734    0.766845  \n",
       "\n",
       "[5 rows x 63 columns]"
      ]
     },
     "execution_count": 66,
     "metadata": {},
     "output_type": "execute_result"
    }
   ],
   "source": [
    "azdias_updated_scaled.head()"
   ]
  },
  {
   "cell_type": "markdown",
   "metadata": {},
   "source": [
    "### Discussion 2.1: Apply Feature Scaling\n",
    "\n",
    "1) I dropped the remaining mixed features from the dataset, as they were not required in further analysis and may give false results.\n",
    "\n",
    "2) By using Imputer function I have removed all the remaining null values from the dataset, by replacing them with the most frequent values.\n",
    "\n",
    "3) I scaled the data using StandardScaler() so that it can become comparable values for features."
   ]
  },
  {
   "cell_type": "markdown",
   "metadata": {},
   "source": [
    "### Step 2.2: Perform Dimensionality Reduction\n",
    "\n",
    "On your scaled data, you are now ready to apply dimensionality reduction techniques.\n",
    "\n",
    "- Use sklearn's [PCA](http://scikit-learn.org/stable/modules/generated/sklearn.decomposition.PCA.html) class to apply principal component analysis on the data, thus finding the vectors of maximal variance in the data. To start, you should not set any parameters (so all components are computed) or set a number of components that is at least half the number of features (so there's enough features to see the general trend in variability).\n",
    "- Check out the ratio of variance explained by each principal component as well as the cumulative variance explained. Try plotting the cumulative or sequential values using matplotlib's [`plot()`](https://matplotlib.org/api/_as_gen/matplotlib.pyplot.plot.html) function. Based on what you find, select a value for the number of transformed features you'll retain for the clustering part of the project.\n",
    "- Once you've made a choice for the number of components to keep, make sure you re-fit a PCA instance to perform the decided-on transformation."
   ]
  },
  {
   "cell_type": "code",
   "execution_count": 67,
   "metadata": {},
   "outputs": [],
   "source": [
    "# Apply PCA to the data.\n",
    "pca=PCA()\n",
    "azdias_updated_pca=pca.fit_transform(azdias_updated_scaled)"
   ]
  },
  {
   "cell_type": "code",
   "execution_count": 68,
   "metadata": {},
   "outputs": [],
   "source": [
    "def scree_plot(pca):\n",
    "    '''\n",
    "    Creates a scree plot associated with the principal components \n",
    "    \n",
    "    INPUT: pca - the result of instantian of PCA in scikit learn\n",
    "            \n",
    "    OUTPUT:\n",
    "            None\n",
    "    '''\n",
    "    num_components = len(pca.explained_variance_ratio_)\n",
    "    ind = np.arange(num_components)\n",
    "    vals = pca.explained_variance_ratio_\n",
    " \n",
    "    plt.figure(figsize=(10, 6))\n",
    "    ax = plt.subplot(111)\n",
    "    cumvals = np.cumsum(vals)\n",
    "    ax.bar(ind, vals)\n",
    "    ax.plot(ind, cumvals)\n",
    "    #for i in range(num_components):\n",
    "       # ax.annotate(r\"%s%%\" % ((str(vals[i]*100)[:4])), (ind[i]+0.2, vals[i]), va=\"bottom\", ha=\"center\", fontsize=12)\n",
    " \n",
    "    ax.xaxis.set_tick_params(width=0)\n",
    "    ax.yaxis.set_tick_params(width=2, length=12)\n",
    " \n",
    "    ax.set_xlabel(\"Principal Component\")\n",
    "    ax.set_ylabel(\"Variance Explained (%)\")\n",
    "    plt.title('Explained Variance Per Principal Component')\n",
    "    \n",
    "\n"
   ]
  },
  {
   "cell_type": "code",
   "execution_count": 69,
   "metadata": {},
   "outputs": [
    {
     "data": {
      "image/png": "[encoded data removed]",
      "text/plain": [
       "<matplotlib.figure.Figure at 0x7f63d68ffda0>"
      ]
     },
     "metadata": {
      "needs_background": "light"
     },
     "output_type": "display_data"
    }
   ],
   "source": [
    "# Investigate the variance accounted for by each principal component.\n",
    "\n",
    "scree_plot(pca)"
   ]
  },
  {
   "cell_type": "code",
   "execution_count": 70,
   "metadata": {},
   "outputs": [],
   "source": [
    "# Re-apply PCA to the data while selecting for number of components to retain.\n",
    "pca_40=PCA(n_components=40)\n",
    "azdias_pca=pca_40.fit_transform(azdias_updated_scaled)\n"
   ]
  },
  {
   "cell_type": "markdown",
   "metadata": {},
   "source": [
    "### Discussion 2.2: Perform Dimensionality Reduction\n",
    "\n",
    "Observing the scree plot above, it is clear that after 40 features we can get 85% variance.So, I chose 40 components as principal components."
   ]
  },
  {
   "cell_type": "markdown",
   "metadata": {},
   "source": [
    "### Step 2.3: Interpret Principal Components\n",
    "\n",
    "Now that we have our transformed principal components, it's a nice idea to check out the weight of each variable on the first few components to see if they can be interpreted in some fashion.\n",
    "\n",
    "As a reminder, each principal component is a unit vector that points in the direction of highest variance (after accounting for the variance captured by earlier principal components). The further a weight is from zero, the more the principal component is in the direction of the corresponding feature. If two features have large weights of the same sign (both positive or both negative), then increases in one tend expect to be associated with increases in the other. To contrast, features with different signs can be expected to show a negative correlation: increases in one variable should result in a decrease in the other.\n",
    "\n",
    "- To investigate the features, you should map each weight to their corresponding feature name, then sort the features according to weight. The most interesting features for each principal component, then, will be those at the beginning and end of the sorted list. Use the data dictionary document to help you understand these most prominent features, their relationships, and what a positive or negative value on the principal component might indicate.\n",
    "- You should investigate and interpret feature associations from the first three principal components in this substep. To help facilitate this, you should write a function that you can call at any time to print the sorted list of feature weights, for the *i*-th principal component. This might come in handy in the next step of the project, when you interpret the tendencies of the discovered clusters."
   ]
  },
  {
   "cell_type": "code",
   "execution_count": 71,
   "metadata": {},
   "outputs": [
    {
     "data": {
      "text/plain": [
       "(797426, 40)"
      ]
     },
     "execution_count": 71,
     "metadata": {},
     "output_type": "execute_result"
    }
   ],
   "source": [
    "azdias_pca.shape"
   ]
  },
  {
   "cell_type": "code",
   "execution_count": 72,
   "metadata": {},
   "outputs": [
    {
     "data": {
      "text/plain": [
       "(40, 63)"
      ]
     },
     "execution_count": 72,
     "metadata": {},
     "output_type": "execute_result"
    }
   ],
   "source": [
    "pca_40.components_.shape"
   ]
  },
  {
   "cell_type": "code",
   "execution_count": 73,
   "metadata": {},
   "outputs": [],
   "source": [
    "# Map weights for the first principal component to corresponding feature names\n",
    "# and then print the linked values, sorted by weight.\n",
    "# HINT: Try defining a function here or in a new cell that you can reuse in the\n",
    "# other cells.\n",
    "\n",
    "def weights(pca, i):\n",
    "    eigenvectors = pd.DataFrame(pca.components_, columns=list(azdias_updated_scaled.columns))\n",
    "    weights = eigenvectors.iloc[i].sort_values(ascending=False)\n",
    "    return weights"
   ]
  },
  {
   "cell_type": "code",
   "execution_count": 74,
   "metadata": {},
   "outputs": [
    {
     "data": {
      "text/plain": [
       "PLZ8_ANTG3               0.225113\n",
       "PLZ8_ANTG4               0.216707\n",
       "wealth                   0.204511\n",
       "HH_EINKOMMEN_SCORE       0.202140\n",
       "ORTSGR_KLS9              0.196389\n",
       "EWDICHTE                 0.194206\n",
       "FINANZ_HAUSBAUER         0.159226\n",
       "FINANZ_SPARER            0.153800\n",
       "KBA05_ANTG4              0.153789\n",
       "PLZ8_ANTG2               0.153456\n",
       "ARBEIT                   0.142393\n",
       "KBA05_ANTG3              0.136674\n",
       "ANZ_HAUSHALTE_AKTIV      0.135870\n",
       "RELAT_AB                 0.134715\n",
       "SEMIO_PFLICHT            0.121968\n",
       "SEMIO_REL                0.119497\n",
       "decade                   0.112947\n",
       "movement                 0.110250\n",
       "SEMIO_RAT                0.100503\n",
       "SEMIO_TRADV              0.094804\n",
       "SEMIO_MAT                0.083795\n",
       "FINANZ_UNAUFFAELLIGER    0.081817\n",
       "SEMIO_FAM                0.081650\n",
       "SEMIO_KULT               0.076372\n",
       "FINANZ_ANLEGER           0.075766\n",
       "REGIOTYP                 0.060357\n",
       "SEMIO_SOZ                0.043543\n",
       "PLZ8_HHZ                 0.042129\n",
       "HEALTH_TYP               0.040359\n",
       "KKK                      0.039535\n",
       "                           ...   \n",
       "SEMIO_DOM                0.023385\n",
       "KBA05_ANTG2              0.013655\n",
       "ANREDE_KZ                0.007430\n",
       "SEMIO_KRIT               0.003123\n",
       "SOHO_KZ                 -0.001984\n",
       "ANZ_TITEL               -0.004319\n",
       "RETOURTYP_BK_S          -0.022449\n",
       "SEMIO_VERT              -0.040193\n",
       "ONLINE_AFFINITAET       -0.040689\n",
       "MIN_GEBAEUDEJAHR        -0.043043\n",
       "OST_WEST_KZ             -0.053795\n",
       "WOHNDAUER_2008          -0.061557\n",
       "KBA13_ANZAHL_PKW        -0.073953\n",
       "SEMIO_LUST              -0.077607\n",
       "ANZ_PERSONEN            -0.077978\n",
       "SEMIO_ERL               -0.080935\n",
       "GREEN_AVANTGARDE        -0.110250\n",
       "GEBAEUDETYP_RASTER      -0.117066\n",
       "FINANZ_VORSORGER        -0.121072\n",
       "life_stage              -0.125241\n",
       "ALTERSKATEGORIE_GROB    -0.126375\n",
       "BALLRAUM                -0.127074\n",
       "INNENSTADT              -0.164341\n",
       "PLZ8_GBZ                -0.166271\n",
       "KONSUMNAEHE             -0.167153\n",
       "KBA05_ANTG1             -0.214458\n",
       "KBA05_GBZ               -0.215865\n",
       "FINANZ_MINIMALIST       -0.223368\n",
       "MOBI_REGIO              -0.224858\n",
       "PLZ8_ANTG1              -0.225470\n",
       "Name: 0, Length: 63, dtype: float64"
      ]
     },
     "execution_count": 74,
     "metadata": {},
     "output_type": "execute_result"
    }
   ],
   "source": [
    "weight_first=weights(pca_40,0)\n",
    "weight_first"
   ]
  },
  {
   "cell_type": "code",
   "execution_count": 75,
   "metadata": {},
   "outputs": [
    {
     "data": {
      "text/plain": [
       "ALTERSKATEGORIE_GROB     0.256059\n",
       "SEMIO_ERL                0.229831\n",
       "FINANZ_VORSORGER         0.228709\n",
       "SEMIO_LUST               0.179836\n",
       "RETOURTYP_BK_S           0.161748\n",
       "FINANZ_HAUSBAUER         0.122589\n",
       "SEMIO_KRIT               0.117781\n",
       "SEMIO_KAEM               0.116840\n",
       "W_KEIT_KIND_HH           0.114899\n",
       "PLZ8_ANTG3               0.099529\n",
       "EWDICHTE                 0.098558\n",
       "ORTSGR_KLS9              0.097340\n",
       "PLZ8_ANTG4               0.097230\n",
       "ANREDE_KZ                0.093649\n",
       "wealth                   0.080225\n",
       "KBA05_ANTG4              0.075926\n",
       "SEMIO_DOM                0.074545\n",
       "ARBEIT                   0.072484\n",
       "RELAT_AB                 0.069845\n",
       "PLZ8_ANTG2               0.068854\n",
       "ANZ_HAUSHALTE_AKTIV      0.067085\n",
       "HH_EINKOMMEN_SCORE       0.062834\n",
       "FINANZ_MINIMALIST        0.058392\n",
       "WOHNDAUER_2008           0.058138\n",
       "KBA05_ANTG3              0.051234\n",
       "ANZ_HH_TITEL             0.032219\n",
       "movement                 0.018985\n",
       "PLZ8_HHZ                 0.015944\n",
       "REGIOTYP                 0.012242\n",
       "ANZ_TITEL                0.006822\n",
       "                           ...   \n",
       "SOHO_KZ                 -0.001967\n",
       "GREEN_AVANTGARDE        -0.018985\n",
       "OST_WEST_KZ             -0.027990\n",
       "KBA13_ANZAHL_PKW        -0.038282\n",
       "GEBAEUDETYP_RASTER      -0.047756\n",
       "MIN_GEBAEUDEJAHR        -0.048934\n",
       "HEALTH_TYP              -0.058068\n",
       "ANZ_PERSONEN            -0.064707\n",
       "BALLRAUM                -0.065188\n",
       "SEMIO_VERT              -0.072942\n",
       "KONSUMNAEHE             -0.075477\n",
       "KBA05_ANTG1             -0.075703\n",
       "PLZ8_GBZ                -0.076079\n",
       "INNENSTADT              -0.080312\n",
       "MOBI_REGIO              -0.082216\n",
       "KBA05_GBZ               -0.093460\n",
       "PLZ8_ANTG1              -0.097498\n",
       "SEMIO_SOZ               -0.103381\n",
       "SEMIO_MAT               -0.160457\n",
       "ONLINE_AFFINITAET       -0.165617\n",
       "SEMIO_RAT               -0.166174\n",
       "SEMIO_FAM               -0.184098\n",
       "FINANZ_ANLEGER          -0.202498\n",
       "SEMIO_KULT              -0.219550\n",
       "SEMIO_PFLICHT           -0.225028\n",
       "FINANZ_UNAUFFAELLIGER   -0.225325\n",
       "SEMIO_TRADV             -0.227671\n",
       "FINANZ_SPARER           -0.231265\n",
       "decade                  -0.238408\n",
       "SEMIO_REL               -0.253286\n",
       "Name: 1, Length: 63, dtype: float64"
      ]
     },
     "execution_count": 75,
     "metadata": {},
     "output_type": "execute_result"
    }
   ],
   "source": [
    "# Map weights for the second principal component to corresponding feature names\n",
    "# and then print the linked values, sorted by weight.\n",
    "weights_second=weights(pca_40,1)\n",
    "weights_second"
   ]
  },
  {
   "cell_type": "code",
   "execution_count": 76,
   "metadata": {
    "scrolled": true
   },
   "outputs": [
    {
     "data": {
      "text/plain": [
       "SEMIO_VERT               0.344671\n",
       "SEMIO_SOZ                0.261865\n",
       "SEMIO_FAM                0.248853\n",
       "SEMIO_KULT               0.233800\n",
       "FINANZ_MINIMALIST        0.154520\n",
       "RETOURTYP_BK_S           0.109157\n",
       "FINANZ_VORSORGER         0.101783\n",
       "W_KEIT_KIND_HH           0.085207\n",
       "ALTERSKATEGORIE_GROB     0.079814\n",
       "SEMIO_REL                0.067751\n",
       "SEMIO_LUST               0.064629\n",
       "SEMIO_MAT                0.055680\n",
       "ORTSGR_KLS9              0.050286\n",
       "EWDICHTE                 0.049491\n",
       "PLZ8_ANTG4               0.049148\n",
       "PLZ8_ANTG3               0.048480\n",
       "GREEN_AVANTGARDE         0.047077\n",
       "ARBEIT                   0.037333\n",
       "RELAT_AB                 0.034344\n",
       "PLZ8_ANTG2               0.032707\n",
       "WOHNDAUER_2008           0.032599\n",
       "wealth                   0.030201\n",
       "KBA05_ANTG4              0.029982\n",
       "ANZ_HAUSHALTE_AKTIV      0.026809\n",
       "ANZ_HH_TITEL             0.013931\n",
       "KBA05_ANTG3              0.011848\n",
       "ANZ_TITEL                0.009710\n",
       "PLZ8_HHZ                 0.005566\n",
       "SOHO_KZ                  0.000173\n",
       "KBA05_ANTG2             -0.006848\n",
       "                           ...   \n",
       "KKK                     -0.015511\n",
       "OST_WEST_KZ             -0.016315\n",
       "HH_EINKOMMEN_SCORE      -0.016497\n",
       "MIN_GEBAEUDEJAHR        -0.017997\n",
       "KBA05_ANTG1             -0.022283\n",
       "KBA13_ANZAHL_PKW        -0.023801\n",
       "MOBI_REGIO              -0.026992\n",
       "KBA05_GBZ               -0.029062\n",
       "GEBAEUDETYP_RASTER      -0.032138\n",
       "HEALTH_TYP              -0.033970\n",
       "BALLRAUM                -0.037257\n",
       "FINANZ_HAUSBAUER        -0.039794\n",
       "KONSUMNAEHE             -0.040461\n",
       "PLZ8_GBZ                -0.040605\n",
       "INNENSTADT              -0.045764\n",
       "movement                -0.047077\n",
       "PLZ8_ANTG1              -0.049461\n",
       "ONLINE_AFFINITAET       -0.055786\n",
       "SEMIO_TRADV             -0.079454\n",
       "SEMIO_PFLICHT           -0.080179\n",
       "FINANZ_UNAUFFAELLIGER   -0.101107\n",
       "FINANZ_SPARER           -0.107264\n",
       "decade                  -0.111769\n",
       "SEMIO_ERL               -0.175172\n",
       "FINANZ_ANLEGER          -0.191035\n",
       "SEMIO_RAT               -0.217751\n",
       "SEMIO_KRIT              -0.275067\n",
       "SEMIO_DOM               -0.313037\n",
       "SEMIO_KAEM              -0.335029\n",
       "ANREDE_KZ               -0.367298\n",
       "Name: 2, Length: 63, dtype: float64"
      ]
     },
     "execution_count": 76,
     "metadata": {},
     "output_type": "execute_result"
    }
   ],
   "source": [
    "# Map weights for the third principal component to corresponding feature names\n",
    "# and then print the linked values, sorted by weight.\n",
    "\n",
    "weights_third=weights(pca_40,2)\n",
    "weights_third"
   ]
  },
  {
   "cell_type": "markdown",
   "metadata": {},
   "source": [
    "### Discussion 2.3: Interpret Principal Components\n",
    "\n",
    "From taking the reference from Data_Dictionary.md, I interpret it as:\n",
    "\n",
    "1) First component is having population density and financial status of a person. Positive values PLZ8 feature and Household features like HH_EINKOMMEN_SCORE shows that person is living in high population density area with good average household net income, whereas negative values of these kind of features implies just opposite of it.\n",
    "\n",
    "2) Second Component is related to generation an culture, where negative values implies that of younger age with no savings and less religious affinity, whereas positive values implies of older people with less financial status.\n",
    "\n",
    "3) Third component is related to gender, where positive values of features are associated with SEMIO_VERT (dreamful), SEMIO_SOZ (socially-minded). Whereas negative values of features are associated with ANREDE_KZ (female), SEMIO_DOM (dominant minded)."
   ]
  },
  {
   "cell_type": "markdown",
   "metadata": {},
   "source": [
    "## Step 3: Clustering\n",
    "\n",
    "### Step 3.1: Apply Clustering to General Population\n",
    "\n",
    "You've assessed and cleaned the demographics data, then scaled and transformed them. Now, it's time to see how the data clusters in the principal components space. In this substep, you will apply k-means clustering to the dataset and use the average within-cluster distances from each point to their assigned cluster's centroid to decide on a number of clusters to keep.\n",
    "\n",
    "- Use sklearn's [KMeans](http://scikit-learn.org/stable/modules/generated/sklearn.cluster.KMeans.html#sklearn.cluster.KMeans) class to perform k-means clustering on the PCA-transformed data.\n",
    "- Then, compute the average difference from each point to its assigned cluster's center. **Hint**: The KMeans object's `.score()` method might be useful here, but note that in sklearn, scores tend to be defined so that larger is better. Try applying it to a small, toy dataset, or use an internet search to help your understanding.\n",
    "- Perform the above two steps for a number of different cluster counts. You can then see how the average distance decreases with an increasing number of clusters. However, each additional cluster provides a smaller net benefit. Use this fact to select a final number of clusters in which to group the data. **Warning**: because of the large size of the dataset, it can take a long time for the algorithm to resolve. The more clusters to fit, the longer the algorithm will take. You should test for cluster counts through at least 10 clusters to get the full picture, but you shouldn't need to test for a number of clusters above about 30.\n",
    "- Once you've selected a final number of clusters to use, re-fit a KMeans instance to perform the clustering operation. Make sure that you also obtain the cluster assignments for the general demographics data, since you'll be using them in the final Step 3.3."
   ]
  },
  {
   "cell_type": "code",
   "execution_count": 65,
   "metadata": {},
   "outputs": [
    {
     "data": {
      "image/png": "[encoded data removed]",
      "text/plain": [
       "<matplotlib.figure.Figure at 0x7f262bc97a90>"
      ]
     },
     "metadata": {
      "needs_background": "light"
     },
     "output_type": "display_data"
    }
   ],
   "source": [
    "# Over a number of different cluster counts...\n",
    "\n",
    "\n",
    "    # run k-means clustering on the data and...\n",
    "    \n",
    "    \n",
    "    # compute the average within-cluster distances.\n",
    "\n",
    "def get_kmeans_score(data,center):\n",
    "    kmeans=KMeans(n_clusters=center)\n",
    "    model=kmeans.fit(data)\n",
    "    score=np.abs(model.score(data))\n",
    "    return score\n",
    "\n",
    "scores=[]\n",
    "centers=list(range(1,25,2))\n",
    "\n",
    "for center in centers:\n",
    "    scores.append(get_kmeans_score(azdias_pca,center))\n",
    "    \n",
    "plt.plot(centers, scores, linestyle='--', marker='o', color='b');\n",
    "plt.xlabel('K');\n",
    "plt.ylabel('SSE');\n",
    "plt.title('SSE vs. K');\n",
    "    "
   ]
  },
  {
   "cell_type": "code",
   "execution_count": 77,
   "metadata": {},
   "outputs": [],
   "source": [
    "# Re-fit the k-means model with the selected number of clusters and obtain\n",
    "# cluster predictions for the general population demographics data.\n",
    "\n",
    "kmeans=KMeans(n_clusters=15)\n",
    "model_15=kmeans.fit(azdias_pca)\n",
    "gen_pop_pred=model_15.predict(azdias_pca)"
   ]
  },
  {
   "cell_type": "markdown",
   "metadata": {},
   "source": [
    "### Discussion 3.1: Apply Clustering to General Population\n",
    "\n",
    "By using elbow method we observed that after 15 there isn't much change in the SSE values, therefore, I chose 15 number of clusters"
   ]
  },
  {
   "cell_type": "markdown",
   "metadata": {},
   "source": [
    "### Step 3.2: Apply All Steps to the Customer Data\n",
    "\n",
    "Now that you have clusters and cluster centers for the general population, it's time to see how the customer data maps on to those clusters. Take care to not confuse this for re-fitting all of the models to the customer data. Instead, you're going to use the fits from the general population to clean, transform, and cluster the customer data. In the last step of the project, you will interpret how the general population fits apply to the customer data.\n",
    "\n",
    "- Don't forget when loading in the customers data, that it is semicolon (`;`) delimited.\n",
    "- Apply the same feature wrangling, selection, and engineering steps to the customer demographics using the `clean_data()` function you created earlier. (You can assume that the customer demographics data has similar meaning behind missing data patterns as the general demographics data.)\n",
    "- Use the sklearn objects from the general demographics data, and apply their transformations to the customers data. That is, you should not be using a `.fit()` or `.fit_transform()` method to re-fit the old objects, nor should you be creating new sklearn objects! Carry the data through the feature scaling, PCA, and clustering steps, obtaining cluster assignments for all of the data in the customer demographics data."
   ]
  },
  {
   "cell_type": "code",
   "execution_count": 78,
   "metadata": {},
   "outputs": [],
   "source": [
    "# Load in the customer demographics data.\n",
    "customers = pd.read_csv('Udacity_CUSTOMERS_Subset.csv',delimiter=';')"
   ]
  },
  {
   "cell_type": "code",
   "execution_count": 79,
   "metadata": {},
   "outputs": [
    {
     "name": "stderr",
     "output_type": "stream",
     "text": [
      "/opt/conda/lib/python3.6/site-packages/ipykernel_launcher.py:40: SettingWithCopyWarning: \n",
      "A value is trying to be set on a copy of a slice from a DataFrame.\n",
      "Try using .loc[row_indexer,col_indexer] = value instead\n",
      "\n",
      "See the caveats in the documentation: http://pandas.pydata.org/pandas-docs/stable/indexing.html#indexing-view-versus-copy\n",
      "/opt/conda/lib/python3.6/site-packages/pandas/core/frame.py:3697: SettingWithCopyWarning: \n",
      "A value is trying to be set on a copy of a slice from a DataFrame\n",
      "\n",
      "See the caveats in the documentation: http://pandas.pydata.org/pandas-docs/stable/indexing.html#indexing-view-versus-copy\n",
      "  errors=errors)\n",
      "/opt/conda/lib/python3.6/site-packages/ipykernel_launcher.py:44: SettingWithCopyWarning: \n",
      "A value is trying to be set on a copy of a slice from a DataFrame.\n",
      "Try using .loc[row_indexer,col_indexer] = value instead\n",
      "\n",
      "See the caveats in the documentation: http://pandas.pydata.org/pandas-docs/stable/indexing.html#indexing-view-versus-copy\n",
      "/opt/conda/lib/python3.6/site-packages/ipykernel_launcher.py:45: SettingWithCopyWarning: \n",
      "A value is trying to be set on a copy of a slice from a DataFrame.\n",
      "Try using .loc[row_indexer,col_indexer] = value instead\n",
      "\n",
      "See the caveats in the documentation: http://pandas.pydata.org/pandas-docs/stable/indexing.html#indexing-view-versus-copy\n",
      "/opt/conda/lib/python3.6/site-packages/ipykernel_launcher.py:46: SettingWithCopyWarning: \n",
      "A value is trying to be set on a copy of a slice from a DataFrame.\n",
      "Try using .loc[row_indexer,col_indexer] = value instead\n",
      "\n",
      "See the caveats in the documentation: http://pandas.pydata.org/pandas-docs/stable/indexing.html#indexing-view-versus-copy\n",
      "/opt/conda/lib/python3.6/site-packages/ipykernel_launcher.py:47: SettingWithCopyWarning: \n",
      "A value is trying to be set on a copy of a slice from a DataFrame.\n",
      "Try using .loc[row_indexer,col_indexer] = value instead\n",
      "\n",
      "See the caveats in the documentation: http://pandas.pydata.org/pandas-docs/stable/indexing.html#indexing-view-versus-copy\n"
     ]
    }
   ],
   "source": [
    "customers_updated=clean_data(customers)"
   ]
  },
  {
   "cell_type": "code",
   "execution_count": 80,
   "metadata": {
    "scrolled": true
   },
   "outputs": [],
   "source": [
    "# Apply preprocessing, feature transformation, and clustering from the general\n",
    "# demographics onto the customer data, obtaining cluster predictions for the\n",
    "# customer demographics data.\n",
    "\n",
    "customers_updated_nan=pd.DataFrame(impute.transform(customers_updated))\n",
    "customers_updated_nan.index=customers_updated.index\n",
    "customers_updated_nan.columns=customers_updated.columns\n",
    "customers_updated_scaled=pd.DataFrame(data=scale.transform(customers_updated_nan),columns=customers_updated_nan.columns.tolist())\n",
    "# Apply PCA to the data.\n",
    "customers_pca=pca_40.transform(customers_updated_scaled)"
   ]
  },
  {
   "cell_type": "code",
   "execution_count": 81,
   "metadata": {},
   "outputs": [],
   "source": [
    "customers_pred=model_15.predict(customers_pca)"
   ]
  },
  {
   "cell_type": "markdown",
   "metadata": {},
   "source": [
    "### Step 3.3: Compare Customer Data to Demographics Data\n",
    "\n",
    "At this point, you have clustered data based on demographics of the general population of Germany, and seen how the customer data for a mail-order sales company maps onto those demographic clusters. In this final substep, you will compare the two cluster distributions to see where the strongest customer base for the company is.\n",
    "\n",
    "Consider the proportion of persons in each cluster for the general population, and the proportions for the customers. If we think the company's customer base to be universal, then the cluster assignment proportions should be fairly similar between the two. If there are only particular segments of the population that are interested in the company's products, then we should see a mismatch from one to the other. If there is a higher proportion of persons in a cluster for the customer data compared to the general population (e.g. 5% of persons are assigned to a cluster for the general population, but 15% of the customer data is closest to that cluster's centroid) then that suggests the people in that cluster to be a target audience for the company. On the other hand, the proportion of the data in a cluster being larger in the general population than the customer data (e.g. only 2% of customers closest to a population centroid that captures 6% of the data) suggests that group of persons to be outside of the target demographics.\n",
    "\n",
    "Take a look at the following points in this step:\n",
    "\n",
    "- Compute the proportion of data points in each cluster for the general population and the customer data. Visualizations will be useful here: both for the individual dataset proportions, but also to visualize the ratios in cluster representation between groups. Seaborn's [`countplot()`](https://seaborn.pydata.org/generated/seaborn.countplot.html) or [`barplot()`](https://seaborn.pydata.org/generated/seaborn.barplot.html) function could be handy.\n",
    "  - Recall the analysis you performed in step 1.1.3 of the project, where you separated out certain data points from the dataset if they had more than a specified threshold of missing values. If you found that this group was qualitatively different from the main bulk of the data, you should treat this as an additional data cluster in this analysis. Make sure that you account for the number of data points in this subset, for both the general population and customer datasets, when making your computations!\n",
    "- Which cluster or clusters are overrepresented in the customer dataset compared to the general population? Select at least one such cluster and infer what kind of people might be represented by that cluster. Use the principal component interpretations from step 2.3 or look at additional components to help you make this inference. Alternatively, you can use the `.inverse_transform()` method of the PCA and StandardScaler objects to transform centroids back to the original data space and interpret the retrieved values directly.\n",
    "- Perform a similar investigation for the underrepresented clusters. Which cluster or clusters are underrepresented in the customer dataset compared to the general population, and what kinds of people are typified by these clusters?"
   ]
  },
  {
   "cell_type": "code",
   "execution_count": 82,
   "metadata": {},
   "outputs": [
    {
     "data": {
      "image/png": "[encoded data removed]",
      "text/plain": [
       "<matplotlib.figure.Figure at 0x7f63cd598b70>"
      ]
     },
     "metadata": {
      "needs_background": "light"
     },
     "output_type": "display_data"
    }
   ],
   "source": [
    "clusters=[]\n",
    "gen_pop=[]\n",
    "customers=[]\n",
    "\n",
    "for i in list(range(0,15)):\n",
    "    gen_pop.append((gen_pop_pred==i).sum()/len(gen_pop_pred))\n",
    "    customers.append((customers_pred==i).sum()/len(customers_pred))\n",
    "    clusters.append(i+1)\n",
    "    \n",
    "df=pd.DataFrame({'clusters':clusters,\n",
    "                 'gen_population':gen_pop,\n",
    "                 'customers':customers},)\n",
    "\n",
    "df.plot(x='clusters',y=['gen_population','customers'],kind='bar',figsize=(8,5))\n",
    "plt.ylabel('People in Cluster')\n",
    "plt.show()"
   ]
  },
  {
   "cell_type": "code",
   "execution_count": 84,
   "metadata": {},
   "outputs": [
    {
     "data": {
      "text/plain": [
       "ALTERSKATEGORIE_GROB        3.295839\n",
       "ANREDE_KZ                   1.039877\n",
       "FINANZ_MINIMALIST           4.804864\n",
       "FINANZ_SPARER               1.637545\n",
       "FINANZ_VORSORGER            4.198629\n",
       "FINANZ_ANLEGER              1.543044\n",
       "FINANZ_UNAUFFAELLIGER       2.193450\n",
       "FINANZ_HAUSBAUER            1.936101\n",
       "GREEN_AVANTGARDE            0.988176\n",
       "HEALTH_TYP                  2.081992\n",
       "RETOURTYP_BK_S              3.992195\n",
       "SEMIO_SOZ                   4.893426\n",
       "SEMIO_FAM                   4.664260\n",
       "SEMIO_REL                   3.732016\n",
       "SEMIO_MAT                   3.882260\n",
       "SEMIO_VERT                  6.295911\n",
       "SEMIO_LUST                  5.348227\n",
       "SEMIO_ERL                   4.002426\n",
       "SEMIO_KULT                  5.004096\n",
       "SEMIO_RAT                   2.761110\n",
       "SEMIO_KRIT                  3.147533\n",
       "SEMIO_DOM                   3.521733\n",
       "SEMIO_KAEM                  2.560311\n",
       "SEMIO_PFLICHT               3.076773\n",
       "SEMIO_TRADV                 3.159202\n",
       "SOHO_KZ                     0.008710\n",
       "ANZ_PERSONEN                2.204251\n",
       "ANZ_TITEL                   0.000124\n",
       "HH_EINKOMMEN_SCORE          2.415139\n",
       "W_KEIT_KIND_HH              4.171621\n",
       "                            ...     \n",
       "KONSUMNAEHE                 3.368485\n",
       "MIN_GEBAEUDEJAHR         1992.816357\n",
       "OST_WEST_KZ                 0.897944\n",
       "KBA05_ANTG1                 2.762274\n",
       "KBA05_ANTG2                 1.101181\n",
       "KBA05_ANTG3                 0.069811\n",
       "KBA05_ANTG4                 0.004135\n",
       "KBA05_GBZ                   4.046573\n",
       "BALLRAUM                    4.011590\n",
       "EWDICHTE                    3.919527\n",
       "INNENSTADT                  4.643184\n",
       "GEBAEUDETYP_RASTER          3.953217\n",
       "KKK                         2.239278\n",
       "MOBI_REGIO                  4.127426\n",
       "ONLINE_AFFINITAET           3.178448\n",
       "REGIOTYP                    3.465312\n",
       "KBA13_ANZAHL_PKW          701.371006\n",
       "PLZ8_ANTG1                  2.799647\n",
       "PLZ8_ANTG2                  2.572397\n",
       "PLZ8_ANTG3                  1.193409\n",
       "PLZ8_ANTG4                  0.372981\n",
       "PLZ8_HHZ                    3.676083\n",
       "PLZ8_GBZ                    3.880782\n",
       "ARBEIT                      3.009757\n",
       "ORTSGR_KLS9                 5.340985\n",
       "RELAT_AB                    2.917397\n",
       "decade                      3.599137\n",
       "movement                    0.011824\n",
       "wealth                      2.077390\n",
       "life_stage                  3.582729\n",
       "Length: 63, dtype: float64"
      ]
     },
     "execution_count": 84,
     "metadata": {},
     "output_type": "execute_result"
    }
   ],
   "source": [
    "# What kinds of people are part of a cluster that is overrepresented in the\n",
    "# customer data compared to the general population?\n",
    "\n",
    "cluster_4=scale.inverse_transform(pca_40.inverse_transform(model_15.cluster_centers_[3]))\n",
    "customers_cluster_4=pd.Series(data=cluster_4,index=customers_updated_scaled.columns)\n",
    "customers_cluster_4"
   ]
  },
  {
   "cell_type": "code",
   "execution_count": 85,
   "metadata": {},
   "outputs": [
    {
     "data": {
      "text/plain": [
       "ALTERSKATEGORIE_GROB        1.507279\n",
       "ANREDE_KZ                   2.001671\n",
       "FINANZ_MINIMALIST           1.178187\n",
       "FINANZ_SPARER               4.256587\n",
       "FINANZ_VORSORGER            2.153206\n",
       "FINANZ_ANLEGER              4.090429\n",
       "FINANZ_UNAUFFAELLIGER       3.728656\n",
       "FINANZ_HAUSBAUER            4.209678\n",
       "GREEN_AVANTGARDE            0.032651\n",
       "HEALTH_TYP                  2.236346\n",
       "RETOURTYP_BK_S              2.529679\n",
       "SEMIO_SOZ                   3.194076\n",
       "SEMIO_FAM                   4.119693\n",
       "SEMIO_REL                   5.631794\n",
       "SEMIO_MAT                   5.010404\n",
       "SEMIO_VERT                  2.312284\n",
       "SEMIO_LUST                  2.876888\n",
       "SEMIO_ERL                   4.161414\n",
       "SEMIO_KULT                  4.423125\n",
       "SEMIO_RAT                   6.512482\n",
       "SEMIO_KRIT                  5.493435\n",
       "SEMIO_DOM                   6.312648\n",
       "SEMIO_KAEM                  6.157802\n",
       "SEMIO_PFLICHT               6.411165\n",
       "SEMIO_TRADV                 6.152828\n",
       "SOHO_KZ                     0.008202\n",
       "ANZ_PERSONEN                1.477512\n",
       "ANZ_TITEL                   0.000047\n",
       "HH_EINKOMMEN_SCORE          5.594472\n",
       "W_KEIT_KIND_HH              4.185656\n",
       "                            ...     \n",
       "KONSUMNAEHE                 2.093333\n",
       "MIN_GEBAEUDEJAHR         1992.445697\n",
       "OST_WEST_KZ                 0.718771\n",
       "KBA05_ANTG1                 0.388402\n",
       "KBA05_ANTG2                 1.220612\n",
       "KBA05_ANTG3                 1.169881\n",
       "KBA05_ANTG4                 0.641870\n",
       "KBA05_GBZ                   2.080475\n",
       "BALLRAUM                    3.132659\n",
       "EWDICHTE                    5.215977\n",
       "INNENSTADT                  3.275021\n",
       "GEBAEUDETYP_RASTER          3.381611\n",
       "KKK                         2.948533\n",
       "MOBI_REGIO                  1.717098\n",
       "ONLINE_AFFINITAET           2.986090\n",
       "REGIOTYP                    5.039952\n",
       "KBA13_ANZAHL_PKW          523.733271\n",
       "PLZ8_ANTG1                  1.453795\n",
       "PLZ8_ANTG2                  3.322866\n",
       "PLZ8_ANTG3                  2.450820\n",
       "PLZ8_ANTG4                  1.287018\n",
       "PLZ8_HHZ                    3.735426\n",
       "PLZ8_GBZ                    2.663583\n",
       "ARBEIT                      3.688130\n",
       "ORTSGR_KLS9                 7.037280\n",
       "RELAT_AB                    3.748793\n",
       "decade                      5.640319\n",
       "movement                    0.967349\n",
       "wealth                      4.408920\n",
       "life_stage                  2.030379\n",
       "Length: 63, dtype: float64"
      ]
     },
     "execution_count": 85,
     "metadata": {},
     "output_type": "execute_result"
    }
   ],
   "source": [
    "# What kinds of people are part of a cluster that is underrepresented in the\n",
    "# customer data compared to the general population?\n",
    "\n",
    "cluster_8=scale.inverse_transform(pca_40.inverse_transform(model_15.cluster_centers_[7]))\n",
    "customers_cluster_8=pd.Series(data=cluster_8,index=customers_updated_scaled.columns)\n",
    "customers_cluster_8"
   ]
  },
  {
   "cell_type": "markdown",
   "metadata": {},
   "source": [
    "### Discussion 3.3: Compare Customer Data to Demographics Data\n",
    "\n",
    "From the above bar chart it can be clearly seen that:\n",
    "\n",
    "1) Cluster 4 is overrepresented in the customer data in comparison with general data.Cluster 8 is underrepresented in the customer data in comparison with general data.\n",
    "\n",
    "2) Both the datasets are evaluated based on financial status, housing, gender, age.\n",
    "\n",
    "3) Since the positive value in invserse_transform suggests higher value in original dataset and negative value in inverse_tansform suggests lower value in the original dataset. Thus we may conclude as the company is doing well with the people of age 46-60 and those having good financial status and are equally male and female. Whereas vice-vera with the younger people of age below 45 with poor households and having less income.\n",
    "\n",
    "4) I got this result on account of certain amount of loss of information, there are great chances of computing better results if we can dealt with no or very less amount of loss of information."
   ]
  },
  {
   "cell_type": "markdown",
   "metadata": {},
   "source": [
    "> Congratulations on making it this far in the project! Before you finish, make sure to check through the entire notebook from top to bottom to make sure that your analysis follows a logical flow and all of your findings are documented in **Discussion** cells. Once you've checked over all of your work, you should export the notebook as an HTML document to submit for evaluation. You can do this from the menu, navigating to **File -> Download as -> HTML (.html)**. You will submit both that document and this notebook for your project submission."
   ]
  },
  {
   "cell_type": "code",
   "execution_count": null,
   "metadata": {},
   "outputs": [],
   "source": []
  }
 ],
 "metadata": {
  "kernelspec": {
   "display_name": "Python 3",
   "language": "python",
   "name": "python3"
  },
  "language_info": {
   "codemirror_mode": {
    "name": "ipython",
    "version": 3
   },
   "file_extension": ".py",
   "mimetype": "text/x-python",
   "name": "python",
   "nbconvert_exporter": "python",
   "pygments_lexer": "ipython3",
   "version": "3.6.3"
  }
 },
 "nbformat": 4,
 "nbformat_minor": 2
}
